{
 "cells": [
  {
   "cell_type": "markdown",
   "metadata": {},
   "source": [
    "## Options for capstone project.\n",
    "\n",
    "### 1. RSNA 2024 Lumbar Spine Degenerative Classification\n",
    "### 2. RSNA Screening Mammography Breast\n",
    "### 3. Child Mind Institute — Problematic Internet Use"
   ]
  },
  {
   "cell_type": "markdown",
   "metadata": {},
   "source": []
  },
  {
   "cell_type": "markdown",
   "metadata": {},
   "source": [
    "### 1. RSNA 2024 Lumbar Spine Degenerative Classification\n",
    "https://www.kaggle.com/competitions/rsna-2024-lumbar-spine-degenerative-classification\n",
    "Challange:\n",
    "The challenge will focus on the classification of five lumbar spine degenerative conditions: Left Neural Foraminal Narrowing, Right Neural Foraminal Narrowing, Left Subarticular Stenosis, Right Subarticular Stenosis, and Spinal Canal Stenosis . For each imaging study in the dataset, we’ve provided severity scores (Normal/Mild, Moderate, or Severe) for each of the five conditions across the intervertebral disc levels L1/L2, L2/L3, L3/L4, L4/L5, and L5/S1.\n",
    "\n",
    "This task is more complex compared to the RSNA Screening Mammography dataset, which only has two states to predict. In contrast, I got five conditions (see condition in the table below) to classify at five different levels (see level in the table). Additionally, there are three types of MRI scans, and each may be relevant for only one of the five conditions.\n",
    "\n",
    "I have already started constructing dataset by combining various sources of information. Acquiring the minimum of domain knowledge is essential for grasping the underlying procedures involved in this classification task. This table is for one person with sutdy_id 4003253.\n",
    "\n",
    "\n",
    "\n",
    "| study_id | categorie                        | severity     | condition                      | level | series_id   | instance_number |     x       |     y       |\n",
    "|----------|----------------------------------|--------------|-------------------------------|-------|-------------|-----------------|-------------|-------------|\n",
    "| 4003253  | left_neural_foraminal_narrowing_l1_l2 | Normal/Mild  | left neural foraminal narrowing | l1/l2 | 1054713880  | 11              | 196.070671  | 126.021201  |\n",
    "| 4003253  | left_neural_foraminal_narrowing_l2_l3 | Normal/Mild  | left neural foraminal narrowing | l2/l3 | 1054713880  | 12              | 191.321555  | 170.120141  |\n",
    "| 4003253  | left_neural_foraminal_narrowing_l3_l4 | Normal/Mild  | left neural foraminal narrowing | l3/l4 | 1054713880  | 12              | 187.878354  | 217.245081  |\n",
    "| 4003253  | left_neural_foraminal_narrowing_l4_l5 | Moderate     | left neural foraminal narrowing | l4/l5 | 1054713880  | 11              | 186.504472  | 251.592129  |\n",
    "| 4003253  | left_neural_foraminal_narrowing_l5_s1 | Normal/Mild  | left neural foraminal narrowing | l5/s1 | 1054713880  | 11              | 197.100569  | 289.457306  |\n",
    "| 4003253  | left_subarticular_stenosis_l1_l2      | Normal/Mild  | left subarticular stenosis      | l1/l2 | 2448190387  | 3               | 179.126448  | 161.235521  |\n",
    "| 4003253  | left_subarticular_stenosis_l2_l3      | Normal/Mild  | left subarticular stenosis      | l2/l3 | 2448190387  | 11              | 180.979730  | 158.764479  |\n",
    "| 4003253  | left_subarticular_stenosis_l3_l4      | Normal/Mild  | left subarticular stenosis      | l3/l4 | 2448190387  | 19              | 176.037645  | 157.528957  |\n",
    "| 4003253  | left_subarticular_stenosis_l4_l5      | Moderate     | left subarticular stenosis      | l4/l5 | 2448190387  | 28              | 172.948842  | 156.911197  |\n",
    "| 4003253  | left_subarticular_stenosis_l5_s1      | Normal/Mild  | left subarticular stenosis      | l5/s1 | 2448190387  | 35              | 179.744209  | 161.853282  |\n",
    "| 4003253  | right_neural_foraminal_narrowing_l1_l2 | Normal/Mild  | right neural foraminal narrowing | l1/l2 | 1054713880  | 6               | 194.569790  | 127.755258  |\n",
    "| 4003253  | right_neural_foraminal_narrowing_l2_l3 | Normal/Mild  | right neural foraminal narrowing | l2/l3 | 1054713880  | 6               | 191.632887  | 165.934990  |\n",
    "| 4003253  | right_neural_foraminal_narrowing_l3_l4 | Moderate     | right neural foraminal narrowing | l3/l4 | 1054713880  | 5               | 187.227533  | 210.722753  |\n",
    "| 4003253  | right_neural_foraminal_narrowing_l4_l5 | Moderate     | right neural foraminal narrowing | l4/l5 | 1054713880  | 4               | 187.961759  | 251.839388  |\n",
    "| 4003253  | right_neural_foraminal_narrowing_l5_s1 | Normal/Mild  | right neural foraminal narrowing | l5/s1 | 1054713880  | 4               | 198.240918  | 285.613767  |\n",
    "| 4003253  | right_subarticular_stenosis_l1_l2      | Normal/Mild  | right subarticular stenosis      | l1/l2 | 2448190387  | 4               | 145.288771  | 158.624642  |\n",
    "| 4003253  | right_subarticular_stenosis_l2_l3      | Normal/Mild  | right subarticular stenosis      | l2/l3 | 2448190387  | 11              | 145.900042  | 157.096466  |\n",
    "| 4003253  | right_subarticular_stenosis_l3_l4      | Normal/Mild  | right subarticular stenosis      | l3/l4 | 2448190387  | 19              | 142.843690  | 156.179561  |\n",
    "| 4003253  | right_subarticular_stenosis_l4_l5      | Normal/Mild  | right subarticular stenosis      | l4/l5 | 2448190387  | 28              | 147.428217  | 158.013372  |\n",
    "| 4003253  | right_subarticular_stenosis_l5_s1      | Normal/Mild  | right subarticular stenosis      | l5/s1 | 2448190387  | 35              | 145.900042  | 161.375358  |\n",
    "| 4003253  | spinal_canal_stenosis_l1_l2            | Normal/Mild  | spinal canal stenosis            | l1/l2 | 702807833   | 8               | 322.831858  | 227.964602  |\n",
    "| 4003253  | spinal_canal_stenosis_l2_l3            | Normal/Mild  | spinal canal stenosis            | l2/l3 | 702807833   | 8               | 320.571429  | 295.714286  |\n",
    "| 4003253  | spinal_canal_stenosis_l3_l4            | Normal/Mild  | spinal canal stenosis            | l3/l4 | 702807833   | 8               | 323.030303  | 371.818182  |\n",
    "| 4003253  | spinal_canal_stenosis_l4_l5            | Normal/Mild  | spinal canal stenosis            | l4/l5 | 702807833   | 8               | 335.292035  | 427.327434  |\n",
    "| 4003253  | spinal_canal_stenosis_l5_s1            | Normal/Mild  | spinal canal stenosis            | l5/s1 | 702807833   | 8               | 353.415929  | 483.964602  |\n",
    "\n",
    "Problems yet to be Solved:\n",
    "\n",
    "Image Coordinates: How do I instruct the program to identify specific locations within the whole image, such as L1/L2? I assume that the x and y coordinates define the positions of these areas. But I have to fifure out how to do it. \n",
    "\n",
    "Image Connection to patients: How do I connect the images to a person? Do I need to link all images of a person, or only those that are best suited for identifying the type of degeneration? Since I have many images pro person how should I introduce them for each person. In the table above I have got 25 raw for one person. I have got about 70 images for each person.  So each raw of one person should be trained on all 70 images. Therefore I have to get out how to do it. One way is to expand each raw of the table above by 70 new raws. However, I have got alredy about 140000 raws and by expanding each raw by 70 raw I will end wiht 10.000.000 raws. And I'm not sure whether it the way to go. \n",
    "\n",
    "Image Quality Assessment: After conducting initial research, it appears that various types of images can help identify damage, but some are more effective than others. I suppose all images should be used though some of them have only few impact on identification.\n",
    "\n",
    "I have got following folders with several images in each folder pro person: Sagittal T2/STIR, Sagittal T1, and Axial T2.\n",
    "Summary of my invstigations:\n",
    "Spinal canal stenosis: Primarily assessed with Sagittal T2/STIR, Sagittal T1, and Axial T2.\n",
    "Subarticular stenosis (left and right): Best visualized with Axial T2 and Sagittal T2.\n",
    "Neural foraminal narrowing (left and right): Best seen with Sagittal T2/STIR, Sagittal T1, and sometimes Axial T2."
   ]
  },
  {
   "cell_type": "code",
   "execution_count": 1,
   "metadata": {},
   "outputs": [
    {
     "name": "stdout",
     "output_type": "stream",
     "text": [
      "9800000\n"
     ]
    }
   ],
   "source": [
    "print(140000*70)"
   ]
  },
  {
   "cell_type": "markdown",
   "metadata": {},
   "source": [
    "### 2. RSNA Screening Mammography Breast\n",
    "https://www.kaggle.com/competitions/rsna-breast-cancer-detection \n",
    "\n",
    "Goal of the Competition\n",
    "The goal of this competition is to identify breast cancer. You'll train your model with screening mammograms obtained from regular screening.\n",
    "Your work improving the automation of detection in screening mammography may enable radiologists to be more accurate and efficient, improving the quality and safety of patient care. It could also help reduce costs and unnecessary medical procedures.\n",
    "\n",
    "This project should be easier to do than  RSNA 2024 Lumbar Spine Degenerative Classification\n",
    "\n"
   ]
  },
  {
   "cell_type": "code",
   "execution_count": null,
   "metadata": {},
   "outputs": [],
   "source": []
  },
  {
   "cell_type": "markdown",
   "metadata": {},
   "source": [
    "### 3. Child Mind Institute — Problematic Internet Use\n",
    "Overview\n",
    "Can you predict the level of problematic internet usage exhibited by children and adolescents, based on their physical activity? The goal of this competition is to develop a predictive model that analyzes children's physical activity and fitness data to identify early signs of problematic internet use. Identifying these patterns can help trigger interventions to encourage healthier digital habits.\n",
    "\n",
    "It might be easier for me to accomplish since it is closer to what I have done before."
   ]
  }
 ],
 "metadata": {
  "kernelspec": {
   "display_name": ".venv",
   "language": "python",
   "name": "python3"
  },
  "language_info": {
   "codemirror_mode": {
    "name": "ipython",
    "version": 3
   },
   "file_extension": ".py",
   "mimetype": "text/x-python",
   "name": "python",
   "nbconvert_exporter": "python",
   "pygments_lexer": "ipython3",
   "version": "3.11.3"
  }
 },
 "nbformat": 4,
 "nbformat_minor": 2
}
