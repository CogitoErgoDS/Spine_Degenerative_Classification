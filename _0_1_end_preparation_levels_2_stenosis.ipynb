{
 "cells": [
  {
   "cell_type": "markdown",
   "metadata": {
    "id": "9FklhSI0Gg9R"
   },
   "source": [
    "Necessary packages:"
   ]
  },
  {
   "cell_type": "code",
   "execution_count": null,
   "metadata": {},
   "outputs": [],
   "source": [
    "import glob\n",
    "import os\n",
    "import warnings\n",
    "\n",
    "\n",
    "import matplotlib.pyplot as plt\n",
    "import numpy as np\n",
    "import pandas as pd\n",
    "\n",
    "import pydicom\n",
    "from pydicom.data import get_testdata_files\n",
    "from sklearn.model_selection import train_test_split\n",
    "\n",
    "from IPython.display import Markdown, display\n",
    "\n",
    " # Import functions from the module\n",
    "import importlib\n",
    "import help_files._0_definitions \n",
    "import  help_files._1_visuals_script\n",
    "# import  help_files._01_load_data\n",
    " # Reload the module to apply the changes to the script\n",
    "importlib.reload(help_files._0_definitions)\n",
    "importlib.reload(help_files._1_visuals_script)\n",
    "# importlib.reload(help_files._01_load_data)\n",
    "import  help_files._1_visuals_script  as pauls_vs\n",
    "# Group by 'condition', 'level', and 'severity' and count occurrences\n",
    "from help_files._0_definitions import count_severity_by_condition_level \n",
    "# Define the path\n",
    "from pathlib import Path\n",
    "\n",
    "pd.set_option(\"display.width\", 1000)  # Set a large width to prevent line wrapping\n",
    " "
   ]
  },
  {
   "cell_type": "markdown",
   "metadata": {},
   "source": [
    "Run _01_load_data.py and _0_definitions.py\n"
   ]
  },
  {
   "cell_type": "code",
   "execution_count": null,
   "metadata": {},
   "outputs": [],
   "source": [
    "### In definitions are all the functions that are used in the notebook and globals\n",
    "with open(\"help_files/_0_definitions.py\") as file:\n",
    "    exec(file.read())\n",
    "\n",
    "with open(\"help_files/_01_load_data.py\") as file:\n",
    "    exec(file.read())\n"
   ]
  },
  {
   "cell_type": "code",
   "execution_count": null,
   "metadata": {},
   "outputs": [],
   "source": []
  },
  {
   "cell_type": "code",
   "execution_count": null,
   "metadata": {},
   "outputs": [],
   "source": [
    "# Load the data from _01_load_data\n",
    "file_names = [\"X_train.csv\", \"X_train_coor.csv\", \"X_train_des.csv\"]\n",
    "dataframes = [pd.read_csv(data_path_vor / file_name) for file_name in file_names]\n",
    "X_train, X_train_coor, X_train_des = dataframes"
   ]
  },
  {
   "cell_type": "markdown",
   "metadata": {},
   "source": [
    "### X_train manipulation"
   ]
  },
  {
   "cell_type": "code",
   "execution_count": null,
   "metadata": {},
   "outputs": [],
   "source": [
    "X_train"
   ]
  },
  {
   "cell_type": "markdown",
   "metadata": {},
   "source": []
  },
  {
   "cell_type": "code",
   "execution_count": null,
   "metadata": {},
   "outputs": [],
   "source": [
    "# Summary statistics of the dataframe\n",
    "summary = X_train.describe(include='all')\n",
    "\n",
    "# Information about the dataframe\n",
    "info = X_train.info()\n",
    "\n",
    "# Display the summary and info\n",
    "print(summary)\n",
    "print(info)"
   ]
  },
  {
   "cell_type": "code",
   "execution_count": null,
   "metadata": {},
   "outputs": [],
   "source": [
    "X_train.dtypes"
   ]
  },
  {
   "cell_type": "code",
   "execution_count": null,
   "metadata": {},
   "outputs": [],
   "source": [
    "# List of columns to iterate through: \n",
    "columns_to_iterate = [\n",
    "    'spinal_canal_stenosis_l1_l2', 'spinal_canal_stenosis_l2_l3', 'spinal_canal_stenosis_l3_l4',\n",
    "    'spinal_canal_stenosis_l4_l5', 'spinal_canal_stenosis_l5_s1', 'left_neural_foraminal_narrowing_l1_l2',\n",
    "    'left_neural_foraminal_narrowing_l2_l3', 'left_neural_foraminal_narrowing_l3_l4', 'left_neural_foraminal_narrowing_l4_l5',\n",
    "    'left_neural_foraminal_narrowing_l5_s1', 'right_neural_foraminal_narrowing_l1_l2', 'right_neural_foraminal_narrowing_l2_l3',\n",
    "    'right_neural_foraminal_narrowing_l3_l4', 'right_neural_foraminal_narrowing_l4_l5', 'right_neural_foraminal_narrowing_l5_s1',\n",
    "    'left_subarticular_stenosis_l1_l2', 'left_subarticular_stenosis_l2_l3', 'left_subarticular_stenosis_l3_l4',\n",
    "    'left_subarticular_stenosis_l4_l5', 'left_subarticular_stenosis_l5_s1', 'right_subarticular_stenosis_l1_l2',\n",
    "    'right_subarticular_stenosis_l2_l3', 'right_subarticular_stenosis_l3_l4', 'right_subarticular_stenosis_l4_l5',\n",
    "    'right_subarticular_stenosis_l5_s1'\n",
    "]\n",
    "\n",
    "\n",
    "# Example operation: Fill missing values with 'Unknown'\n",
    "for column in columns_to_iterate:\n",
    "    X_train[column] = X_train[column].map({'Normal/Mild': 1, 'Moderate': 2, 'Severe': 3})\n",
    "\n",
    "X_train"
   ]
  },
  {
   "cell_type": "code",
   "execution_count": null,
   "metadata": {},
   "outputs": [],
   "source": []
  },
  {
   "cell_type": "markdown",
   "metadata": {},
   "source": [
    "Disribution of different damages in spine"
   ]
  },
  {
   "cell_type": "code",
   "execution_count": null,
   "metadata": {
    "vscode": {
     "languageId": "ruby"
    }
   },
   "outputs": [],
   "source": [
    "# Create an empty list to store the distribution data\n",
    "distribution_data = []\n",
    "\n",
    "# Calculate the distribution for each column\n",
    "for column in columns_to_iterate:\n",
    "    counts = X_train[column].value_counts().sort_index()\n",
    "    total_counts = counts.sum()\n",
    "    distribution_data.append({\n",
    "        'Condition': column,\n",
    "        'Normal/Mild': counts.get(1.0, 0),\n",
    "        'Moderate': counts.get(2.0, 0),\n",
    "        'Severe': counts.get(3.0, 0)\n",
    "    })\n",
    "    distribution_data[-1]['Normal/Mild (%)'] = (counts.get(1.0, 0) / total_counts) * 100\n",
    "    distribution_data[-1]['Moderate (%)'] = (counts.get(2.0, 0) / total_counts) * 100\n",
    "    distribution_data[-1]['Severe (%)'] = (counts.get(3.0, 0) / total_counts) * 100\n",
    "\n",
    "# Convert the list to a DataFrame\n",
    "distribution_df = pd.DataFrame(distribution_data)\n",
    "\n",
    "# Display the distribution DataFrame\n",
    "print(distribution_df)\n",
    "\n",
    " \n"
   ]
  },
  {
   "cell_type": "code",
   "execution_count": null,
   "metadata": {},
   "outputs": [],
   "source": [
    "X_train_des"
   ]
  },
  {
   "cell_type": "code",
   "execution_count": null,
   "metadata": {},
   "outputs": [],
   "source": [
    "## reshaping the data from wide to long\n",
    "reshape_list = ['spinal_canal_stenosis_l1_l2', 'spinal_canal_stenosis_l2_l3', 'spinal_canal_stenosis_l3_l4', 'spinal_canal_stenosis_l4_l5', 'spinal_canal_stenosis_l5_s1', 'left_neural_foraminal_narrowing_l1_l2', 'left_neural_foraminal_narrowing_l2_l3', 'left_neural_foraminal_narrowing_l3_l4', 'left_neural_foraminal_narrowing_l4_l5', 'left_neural_foraminal_narrowing_l5_s1', 'right_neural_foraminal_narrowing_l1_l2', 'right_neural_foraminal_narrowing_l2_l3', 'right_neural_foraminal_narrowing_l3_l4', 'right_neural_foraminal_narrowing_l4_l5', 'right_neural_foraminal_narrowing_l5_s1', 'left_subarticular_stenosis_l1_l2', 'left_subarticular_stenosis_l2_l3', 'left_subarticular_stenosis_l3_l4', 'left_subarticular_stenosis_l4_l5', 'left_subarticular_stenosis_l5_s1', 'right_subarticular_stenosis_l1_l2', 'right_subarticular_stenosis_l2_l3', 'right_subarticular_stenosis_l3_l4', 'right_subarticular_stenosis_l4_l5', 'right_subarticular_stenosis_l5_s1']  \n",
    "# reshape_list = ['spinal_canal_stenosis_l1_l2', 'spinal_canal_stenosis_l2_l3', 'spinal_canal_stenosis_l3_l4', 'spinal_canal_stenosis_l4_l5', 'spinal_canal_stenosis_l5_s1', 'left_neural_foraminal_narrowing_l1_l2', 'left_neural_foraminal_narrowing_l2_l3', 'left_neural_foraminal_narrowing_l3_l4', 'left_neural_foraminal_narrowing_l4_l5', 'left_neural_foraminal_narrowing_l5_s1', 'right_neural_foraminal_narrowing_l1_l2', 'right_neural_foraminal_narrowing_l2_l3', 'right_neural_foraminal_narrowing_l3_l4', 'right_neural_foraminal_narrowing_l4_l5', 'right_neural_foraminal_narrowing_l5_s1', 'left_subarticular_stenosis_l1_l2', 'left_subarticular_stenosis_l2_l3', 'left_subarticular_stenosis_l3_l4', 'left_subarticular_stenosis_l4_l5', 'left_subarticular_stenosis_l5_s1', 'right_subarticular_stenosis_l1_l2', 'right_subarticular_stenosis_l2_l3', 'right_subarticular_stenosis_l3_l4', 'right_subarticular_stenosis_l4_l5', 'right_subarticular_stenosis_l5_s1']  \n",
    "# Assuming df is your DataFrame\n",
    "reshaped_train = pd.melt(X_train, \n",
    "                  id_vars=[\"study_id\"],  # Keep study_id as is\n",
    "                  var_name=\"categorie\",  # New column for the condition names\n",
    "                  value_name=\"severity\")   # New column for the values\n",
    "\n",
    "# Display the reshaped DataFrame\n",
    "# Ensure the file is not open in another program and you have write permissions\n",
    "# reshaped_train.to_csv(path / \"starfor_sorting_new.csv\",  index=False)\n",
    " \n",
    " \n",
    "X_train = reshaped_train\n",
    "X_train = X_train.sort_values(by=['study_id', 'categorie'], ignore_index=True)\n",
    "X_train.head()"
   ]
  },
  {
   "cell_type": "code",
   "execution_count": null,
   "metadata": {},
   "outputs": [],
   "source": [
    "# Split the string into two parts: 'spinal_canal_stenosis' and 'l1_l2'\n",
    "split_columns = X_train['categorie'].str.rsplit('_', n=2)\n",
    "# Combine the first part as 'condition' and the last two parts as 'level'\n",
    "X_train['condition'] = split_columns.str[0]\n",
    "X_train['level'] = split_columns.str[1] + '_' + split_columns.str[2]\n",
    "\n",
    "X_train "
   ]
  },
  {
   "cell_type": "code",
   "execution_count": null,
   "metadata": {},
   "outputs": [],
   "source": [
    "## adjusting srtings: disenabling the _ and making all lower case\n",
    "X_train['condition'] = X_train['condition'].str.replace('_', ' ')\n",
    "X_train['level'] = X_train['level'].str.replace('_', '/')\n",
    "\n",
    "\n",
    "X_train_coor['condition'] = X_train_coor['condition'].str.lower()\n",
    "X_train_coor['level'] = X_train_coor['level'].str.lower()\n",
    "X_train.head()"
   ]
  },
  {
   "cell_type": "code",
   "execution_count": null,
   "metadata": {},
   "outputs": [],
   "source": []
  },
  {
   "cell_type": "markdown",
   "metadata": {},
   "source": [
    "### Select which kind of damage"
   ]
  },
  {
   "cell_type": "code",
   "execution_count": null,
   "metadata": {},
   "outputs": [],
   "source": [
    "# keep only left neural foraminal narrowing l4/l5\n",
    "# Filter the DataFrame to keep only rows where the condition is either left_subarticular_stenosis_l4_l5 or right_subarticular_stenosis_l4_l5\n",
    "filtered_df = X_train[(X_train['condition'].str.contains('spinal canal stenosis')) & ((X_train['level'] == 'l3/l4') | (X_train['level'] == 'l4/l5') | (X_train['level'] == 'l5/s1'))]\n",
    "print(filtered_df)\n",
    "\n",
    "X_train = filtered_df\n"
   ]
  },
  {
   "cell_type": "code",
   "execution_count": null,
   "metadata": {},
   "outputs": [],
   "source": [
    "X_train "
   ]
  },
  {
   "cell_type": "code",
   "execution_count": null,
   "metadata": {},
   "outputs": [],
   "source": [
    "# Group by 'categorie' and 'condition', then count the occurrences of each severity level\n",
    "severity_counts = X_train.groupby(['categorie', 'condition'])['severity'].value_counts().unstack(fill_value=0)\n",
    "# Display the result\n",
    "print(severity_counts)\n",
    "\n"
   ]
  },
  {
   "cell_type": "code",
   "execution_count": null,
   "metadata": {},
   "outputs": [],
   "source": [
    "unique_study_ids_train = X_train['study_id'].nunique()\n",
    "unique_study_ids_train_coor = X_train_coor['study_id'].nunique()\n",
    "\n",
    "print(f\"Number of unique study_id in X_train: {unique_study_ids_train}\")\n",
    "print(f\"Number of unique study_id in X_train_coor: {unique_study_ids_train_coor}\")"
   ]
  },
  {
   "cell_type": "code",
   "execution_count": null,
   "metadata": {},
   "outputs": [],
   "source": [
    " # get rid of persons with no coordinates\n",
    "X_train = X_train[X_train['study_id'].isin(X_train_coor['study_id'])]"
   ]
  },
  {
   "cell_type": "code",
   "execution_count": null,
   "metadata": {},
   "outputs": [],
   "source": [
    "unique_study_ids_train = X_train['study_id'].nunique()\n",
    "unique_study_ids_train_coor = X_train_coor['study_id'].nunique()\n",
    "\n",
    "print(f\"Number of unique study_id in X_train: {unique_study_ids_train}\")\n",
    "print(f\"Number of unique study_id in X_train_coor: {unique_study_ids_train_coor}\")"
   ]
  },
  {
   "cell_type": "markdown",
   "metadata": {},
   "source": [
    "merging X_train and X_train_coor "
   ]
  },
  {
   "cell_type": "code",
   "execution_count": null,
   "metadata": {},
   "outputs": [],
   "source": [
    "# Perform a left join between merged_df an X_train on multiple variables\n",
    "merged_df = pd.merge(X_train, X_train_coor, on=['study_id', 'condition', 'level'], how='left')\n",
    "# Display the merged DataFrame\n",
    "\n",
    "merged_df = merged_df.sort_values(by=['categorie'], ignore_index=True) \n",
    "merged_df.head()"
   ]
  },
  {
   "cell_type": "code",
   "execution_count": null,
   "metadata": {},
   "outputs": [],
   "source": [
    "# Group by 'categorie' and 'condition', then count the occurrences of each severity level\n",
    "severity_counts = X_train.groupby(['categorie', 'condition'])['severity'].value_counts().unstack(fill_value=0)\n",
    "# Display the result\n",
    "print(severity_counts)"
   ]
  },
  {
   "cell_type": "markdown",
   "metadata": {},
   "source": [
    "some statistics of data set"
   ]
  },
  {
   "cell_type": "code",
   "execution_count": null,
   "metadata": {},
   "outputs": [],
   "source": [
    "# Count total rows in each DataFrame before the merge\n",
    "print(f\"Rows in X_train: {len(X_train)}\")\n",
    "print(f\"Rows in X_train_coor: {len(X_train_coor)}\")\n",
    "\n",
    "# Count total rows in the merged DataFrame\n",
    "print(f\"Rows in merged_df: {len(merged_df)}\")\n",
    "\n",
    "# Find out how many rows have missing values in columns from X_train_coor after the merge\n",
    "# Assuming columns from X_train_coor start with a common prefix or are listed in a known list\n",
    "columns_from_X_train_coor = [col for col in X_train_coor.columns if col not in ['study_id', 'condition', 'level']]\n",
    "missing_rows = merged_df[columns_from_X_train_coor].isnull().all(axis=1).sum()\n",
    "\n",
    "# Create a new DataFrame for study_ids with at least one row having missing values in columns from X_train_coor\n",
    "missing_study_ids = merged_df[merged_df[columns_from_X_train_coor].isnull().any(axis=1)]['study_id'].unique()\n",
    "missing_persons_df = merged_df[merged_df['study_id'].isin(missing_study_ids)]\n",
    "missing_persons_df = missing_persons_df.sort_values(by=['study_id', 'categorie'], ignore_index=True)\n",
    " \n",
    "\n",
    "print(f\"Rows in merged_df without matching rows in X_train_coor: {missing_rows}\")\n",
    "print(f\"Rows in merged_df with matches from X_train_coor: {len(merged_df) - missing_rows}\")"
   ]
  },
  {
   "cell_type": "code",
   "execution_count": null,
   "metadata": {},
   "outputs": [],
   "source": [
    "missing_persons_df.head()"
   ]
  },
  {
   "cell_type": "code",
   "execution_count": null,
   "metadata": {},
   "outputs": [],
   "source": []
  },
  {
   "cell_type": "code",
   "execution_count": null,
   "metadata": {},
   "outputs": [],
   "source": [
    "# drop rows with missing values in columns from X_train_coor\n",
    "merged_df = merged_df.dropna(subset=columns_from_X_train_coor)\n",
    "display(Markdown('<span style=\"color:red\">later on to take it back to the original shape : 48692</span>'))\n",
    "merged_df"
   ]
  },
  {
   "cell_type": "code",
   "execution_count": null,
   "metadata": {},
   "outputs": [],
   "source": [
    "# Group by 'categorie' and 'condition', then count the occurrences of each severity level\n",
    "severity_counts = merged_df.groupby(['categorie', 'condition'])['severity'].value_counts().unstack(fill_value=0)\n",
    "# Display the result\n",
    "print(severity_counts)"
   ]
  },
  {
   "cell_type": "code",
   "execution_count": null,
   "metadata": {},
   "outputs": [],
   "source": [
    "merged_df"
   ]
  },
  {
   "cell_type": "markdown",
   "metadata": {},
   "source": [
    "Folder with images: preparing paths for merging with main data "
   ]
  },
  {
   "cell_type": "markdown",
   "metadata": {},
   "source": [
    " define which mri type adequate for my goal"
   ]
  },
  {
   "cell_type": "code",
   "execution_count": null,
   "metadata": {},
   "outputs": [],
   "source": [
    "X_train_des.dtypes"
   ]
  },
  {
   "cell_type": "code",
   "execution_count": null,
   "metadata": {},
   "outputs": [],
   "source": [
    "mri_kind = ['Sagittal T2/STIR', 'Axial T2']"
   ]
  },
  {
   "cell_type": "code",
   "execution_count": null,
   "metadata": {},
   "outputs": [],
   "source": [
    "X_train_des = X_train_des[X_train_des['series_description'].isin(mri_kind)]\n",
    "X_train_des.head()"
   ]
  },
  {
   "cell_type": "markdown",
   "metadata": {},
   "source": [
    "Paths to images constructing data frame: two options how to do"
   ]
  },
  {
   "cell_type": "code",
   "execution_count": null,
   "metadata": {},
   "outputs": [],
   "source": [
    "# using X_train_desÖ Ecxell table is better than taking the path from the folders \n",
    "import re\n",
    "\n",
    "def paths_to_images(df, data_dir):\n",
    "    image_paths = []\n",
    "    for study_id, series_id in zip(df['study_id'], df['series_id']):\n",
    "        study_dir = os.path.join(data_dir, str(study_id))\n",
    "        series_dir = os.path.join(study_dir, str(series_id))\n",
    "        \n",
    "        # List images in the series directory\n",
    "        images = os.listdir(series_dir)\n",
    "        # Create full paths for each image\n",
    "        image_paths.extend([os.path.join(series_dir, img) for img in images])\n",
    "        \n",
    "    return image_paths\n",
    "\n",
    "image_paths = paths_to_images(X_train_des, os.path.join(\"data/train_images_origin\"))\n",
    "\n",
    "# Sort the image paths to ensure numerical order\n",
    "def numerical_sort(value):\n",
    "    parts = re.split(r'(\\d+)', value)\n",
    "    return [int(part) if part.isdigit() else part for part in parts]\n",
    "\n",
    "image_paths = sorted(image_paths, key=numerical_sort)\n",
    "image_paths[:75]\n",
    "\n",
    "df_image_paths = pd.DataFrame(image_paths, columns=['image_path'])\n",
    "df_image_paths.head()"
   ]
  },
  {
   "cell_type": "code",
   "execution_count": null,
   "metadata": {},
   "outputs": [],
   "source": [
    "\"\"\" # brauche ich nicht Using real folders and images:  \n",
    "# path to images folder and images inside the folder\n",
    "import re\n",
    "# Define the main directory\n",
    "main_dir = \"data/train_images\"\n",
    "\n",
    "def paths_to_images_2(main_dir):\n",
    "    image_paths = []\n",
    "    # Walk through the directory structure starting from the main directory\n",
    "    for root, subdirs, files in os.walk(main_dir):\n",
    "        for file in files:\n",
    "            # Create the full path for each image\n",
    "            print(file)\n",
    "            file_path = os.path.join(root, file)\n",
    "            image_paths.append(file_path)\n",
    "\n",
    "    return image_paths\n",
    "\n",
    "paths_to_images_2(main_dir)\n",
    "\n",
    "\n",
    "\n",
    "################   sort path images in numerical order  \n",
    "# Define the main directory\n",
    "main_dir = \"data/train_images\"\n",
    "\n",
    "# Get the image paths\n",
    "image_paths2 = paths_to_images_2(main_dir)\n",
    "\n",
    "# Sort the image paths to ensure numerical order\n",
    "def numerical_sort(value):\n",
    "    parts = re.split(r'(\\d+)', value)\n",
    "    return [int(part) if part.isdigit() else part for part in parts]\n",
    "\n",
    "image_paths2 = sorted(image_paths2, key=numerical_sort)\n",
    "image_paths2[:75]\n",
    "\n",
    "df_image_paths2 = pd.DataFrame(image_paths2, columns=['image_path'])\n",
    "df_image_paths2.head()\n",
    " \n",
    "\"\"\""
   ]
  },
  {
   "cell_type": "code",
   "execution_count": null,
   "metadata": {},
   "outputs": [],
   "source": [
    "df_image_paths['image_path'] = df_image_paths['image_path'].str.replace('\\\\', '/')\n",
    "df_image_paths.head()"
   ]
  },
  {
   "cell_type": "code",
   "execution_count": null,
   "metadata": {},
   "outputs": [],
   "source": [
    "# Split the path and extract the study_id: make integer type of study_id\n",
    "def safe_int_conversion(x):\n",
    "    try:\n",
    "        return int(x)\n",
    "    except OverflowError:\n",
    "        return None  # or handle it in another way\n",
    "\n",
    "df_image_paths['study_id'] = df_image_paths['image_path'].apply(lambda x: safe_int_conversion(x.split('/')[2]))\n",
    "df_image_paths.head(75)"
   ]
  },
  {
   "cell_type": "code",
   "execution_count": null,
   "metadata": {},
   "outputs": [],
   "source": [
    "df_image_paths.dtypes"
   ]
  },
  {
   "cell_type": "code",
   "execution_count": null,
   "metadata": {},
   "outputs": [],
   "source": [
    "# df_image_paths['study_id'] = df_image_paths['study_id'].astype(int)\n",
    "df_image_paths.head(75)"
   ]
  },
  {
   "cell_type": "code",
   "execution_count": null,
   "metadata": {},
   "outputs": [],
   "source": [
    "df_image_paths.dtypes"
   ]
  },
  {
   "cell_type": "code",
   "execution_count": null,
   "metadata": {},
   "outputs": [],
   "source": [
    "# keep only selected persons \n",
    "from help_files._0_definitions import keep_persons, study_ids_to_keep, all_persons\n",
    "voraluf = keep_persons(df_image_paths, study_ids_to_keep, all_persons)\n",
    "df_image_paths = voraluf\n",
    "df_image_paths"
   ]
  },
  {
   "cell_type": "markdown",
   "metadata": {},
   "source": [
    "Join  X_train and df_image_paths"
   ]
  },
  {
   "cell_type": "code",
   "execution_count": null,
   "metadata": {},
   "outputs": [],
   "source": [
    "\"\"\" some checks \n",
    "df_image_paths['count'] = df_image_paths.groupby('study_id').cumcount() + 1\n",
    "df_image_paths['count_per_person'] = df_image_paths.groupby('study_id')['study_id'].transform('count')\n",
    "df_image_paths['mean_per_of_raws'] = df_image_paths.groupby('study_id').first()['count_per_person'].mean()\n",
    "df_image_paths['first_row_flag'] = df_image_paths.groupby('study_id').cumcount().apply(lambda x: 1 if x == 0 else 0)\n",
    "df_image_paths['mean_per_of_raws2'] = np.where(df_image_paths['first_row_flag'] == 1, df_image_paths['count_per_person'].mean(), np.nan)\n",
    "df_image_paths.head(75)\n",
    "\n",
    "print(\"at average there are 81 images per person\")\n",
    "\"\"\""
   ]
  },
  {
   "cell_type": "markdown",
   "metadata": {},
   "source": [
    "merign: 1:to many left join: df_image_paths merged to merged_df"
   ]
  },
  {
   "cell_type": "code",
   "execution_count": null,
   "metadata": {},
   "outputs": [],
   "source": [
    "# join 1 to many: X_train and df_image_paths\n",
    "df_end = merged_df.merge(df_image_paths, on='study_id', how='left')\n",
    "df_end.head()\n"
   ]
  },
  {
   "cell_type": "code",
   "execution_count": null,
   "metadata": {},
   "outputs": [],
   "source": [
    "# Call the function count_severity_by_condition_level for checking the count of severity by condition and level\n",
    " \n",
    "print(\"\\nMerged DataFrame:\")\n",
    "count_severity_by_condition_level(df_end)"
   ]
  },
  {
   "cell_type": "code",
   "execution_count": null,
   "metadata": {},
   "outputs": [],
   "source": [
    "# join 1 to many: X_train and df_image_paths\n",
    "\n",
    "df_end = df_end.drop(columns=['categorie', 'instance_number'])\n",
    "df_end.shape\n",
    "\n",
    "# Define data_path_vor\n",
    " \n",
    " \n",
    "df_end.head()   "
   ]
  },
  {
   "cell_type": "code",
   "execution_count": null,
   "metadata": {},
   "outputs": [],
   "source": [
    "# Call the function count_severity_by_condition_level for checking the count of severity by condition and level\n",
    " \n",
    "print(\"\\nMerged DataFrame:\")\n",
    "count_severity_by_condition_level(df_end)"
   ]
  },
  {
   "cell_type": "code",
   "execution_count": null,
   "metadata": {},
   "outputs": [],
   "source": [
    "df_end['missing_image'] = df_end['image_path'].isna()\n",
    "df_end.head()"
   ]
  },
  {
   "cell_type": "code",
   "execution_count": null,
   "metadata": {},
   "outputs": [],
   "source": [
    "before = df_end.shape[0]\n",
    "# Option 1: Drop rows with NaN values in image_path\n",
    "df_end = df_end.dropna(subset=['image_path'])\n",
    "df_end['missing_image'] = df_end['image_path'].isna()\n",
    "print(df_end[df_end['image_path'].isna()])\n",
    "after = df_end.shape[0]\n",
    "print(f\"Number of rows dropped: {before}, after: {after}, dropped: {before - after}\") \n"
   ]
  },
  {
   "cell_type": "code",
   "execution_count": null,
   "metadata": {},
   "outputs": [],
   "source": [
    "# Call the function count_severity_by_condition_level for checking the count of severity by condition and level\n",
    " \n",
    "print(\"\\nMerged DataFrame:\")\n",
    "count_severity_by_condition_level(df_end)\n"
   ]
  },
  {
   "cell_type": "code",
   "execution_count": null,
   "metadata": {},
   "outputs": [],
   "source": [
    "# Convert image_path to string if necessary\n",
    "df_end['image_path'] = df_end['image_path'].astype(str)\n",
    "# Print out the image_path values to inspect\n",
    "print(df_end['image_path'].head())"
   ]
  },
  {
   "cell_type": "code",
   "execution_count": null,
   "metadata": {},
   "outputs": [],
   "source": [
    "df_end.dtypes"
   ]
  },
  {
   "cell_type": "code",
   "execution_count": null,
   "metadata": {},
   "outputs": [],
   "source": [
    "df_end"
   ]
  },
  {
   "cell_type": "code",
   "execution_count": null,
   "metadata": {},
   "outputs": [],
   "source": [
    "df_end = df_end.sort_values(by=['study_id', 'level'], ignore_index=True)\n",
    "df_end.head()"
   ]
  },
  {
   "cell_type": "markdown",
   "metadata": {},
   "source": [
    "random sample selection\n"
   ]
  },
  {
   "cell_type": "code",
   "execution_count": null,
   "metadata": {},
   "outputs": [],
   "source": [
    "print(\"\\nMerged DataFrame:\")\n",
    "count_severity_by_condition_level(df_end)"
   ]
  },
  {
   "cell_type": "markdown",
   "metadata": {},
   "source": [
    "the code below only once: it trasforms the images and saves them (see _02_transform_images): however it transforms only 'Sagittal T2/STIR' pictures. But for the whole sample it were just 7 minutes"
   ]
  },
  {
   "cell_type": "code",
   "execution_count": null,
   "metadata": {},
   "outputs": [],
   "source": [
    "# transform images: already predtransforemed\n",
    "\"\"\"\n",
    "with open(\"help_files/_02_transform_images.py\") as file:\n",
    "    exec(file.read())\n",
    "\"\"\" \n",
    " "
   ]
  },
  {
   "cell_type": "markdown",
   "metadata": {},
   "source": [
    "select randomly one raw for each study_id"
   ]
  },
  {
   "cell_type": "code",
   "execution_count": null,
   "metadata": {},
   "outputs": [],
   "source": [
    "df_end_full  = df_end\n",
    "df_end_full\n",
    "df_end['study_id_count'] = df_end.groupby('study_id').cumcount() + 1\n",
    "df_end"
   ]
  },
  {
   "cell_type": "code",
   "execution_count": null,
   "metadata": {},
   "outputs": [],
   "source": [
    "RSEED = 42  # Define the random seed\n",
    "\n",
    "# Randomly select one row from each study_id, ensuring sample size does not exceed population size\n",
    "random_sample_df = df_end.groupby(['study_id', 'level']).apply(lambda x: x.sample(n=min(80, len(x)), random_state=RSEED)).reset_index(drop=True)\n",
    "random_sample_df\n",
    "\n",
    "# Sort the DataFrame by 'study_id' and 'study_id_count' taking into account numerical order\n",
    "random_sample_df = random_sample_df.sort_values(by=['study_id', 'study_id_count'], ignore_index=True) \n",
    "random_sample_df"
   ]
  },
  {
   "cell_type": "code",
   "execution_count": null,
   "metadata": {},
   "outputs": [],
   "source": [
    "# Call the function count_severity_by_condition_level for checking the count of severity by condition and level\n",
    "count_severity_by_condition_level(random_sample_df)"
   ]
  },
  {
   "cell_type": "code",
   "execution_count": null,
   "metadata": {},
   "outputs": [],
   "source": [
    "random_sample_df"
   ]
  },
  {
   "cell_type": "markdown",
   "metadata": {},
   "source": [
    "Number of person for each severity"
   ]
  },
  {
   "cell_type": "code",
   "execution_count": null,
   "metadata": {},
   "outputs": [],
   "source": [
    "# Function to get random samples for each severity level\n",
    "def get_random_samples(df, severity, number, random_state=42):\n",
    "    # Filter for the given severity level and sample the specified number\n",
    "    return df[df['severity'] == severity].sample(n=number, random_state=random_state)\n",
    "\n",
    "# Number of samples to take for each severity level\n",
    "number_persons_train_0 = 5000  # for severity 1\n",
    "number_persons_train_1 = 5000  # for severity 2\n",
    "number_persons_train_2 = 5000   # for severity 3\n",
    "\n",
    "# Get random samples for each severity level\n",
    "random_sample_severity_1 = get_random_samples(random_sample_df, severity=1.0, number=number_persons_train_0)\n",
    "random_sample_severity_2 = get_random_samples(random_sample_df, severity=2.0, number=number_persons_train_1)\n",
    "random_sample_severity_3 = get_random_samples(random_sample_df, severity=3.0, number=number_persons_train_2)\n",
    "\n",
    "# Combine the samples into one DataFrame\n",
    "random_samples_combined = pd.concat([random_sample_severity_1, random_sample_severity_2, random_sample_severity_3])\n",
    "\n",
    "# Optionally, reset index after concatenation\n",
    "random_samples_combined = random_samples_combined.reset_index(drop=True)\n",
    "\n",
    "# Display the first few rows of the combined DataFrame\n",
    "print(random_samples_combined.head())\n",
    "\n",
    "\n",
    "# Display the combined random samples\n",
    "random_samples_combined.head()\n",
    "random_samples_combined = random_samples_combined.sort_values(by='study_id').reset_index(drop=True)\n",
    "random_samples_combined.head()\n",
    "\n",
    "\n",
    " "
   ]
  },
  {
   "cell_type": "code",
   "execution_count": null,
   "metadata": {},
   "outputs": [],
   "source": [
    "# prints in the wide format\n",
    "df_end = random_samples_combined\n",
    "# Assuming df_end is your DataFrame\n",
    "print(df_end.to_string(index=False, header=True))"
   ]
  },
  {
   "cell_type": "code",
   "execution_count": null,
   "metadata": {},
   "outputs": [],
   "source": [
    "df_end.dtypes\n",
    "#df_end['condition'] = df_end['condition'].astype('category').cat.codes\n",
    "#df_end_full['condition'] = df_end_full['condition'].astype('category').cat.codes"
   ]
  },
  {
   "cell_type": "code",
   "execution_count": null,
   "metadata": {},
   "outputs": [],
   "source": [
    "df_end"
   ]
  },
  {
   "cell_type": "markdown",
   "metadata": {},
   "source": [
    "df_end\n"
   ]
  },
  {
   "cell_type": "code",
   "execution_count": null,
   "metadata": {},
   "outputs": [],
   "source": [
    "df_end = random_samples_combined\n",
    " \n",
    "print(df_end.head())"
   ]
  },
  {
   "cell_type": "code",
   "execution_count": null,
   "metadata": {},
   "outputs": [],
   "source": [
    "df_end['severity'] = df_end['severity'] - 1  # Subtracting 1 from each severity level\n",
    "# Randomly sample 100 rows from random_samples_combined\n",
    "random_samples_test_check = df_end.sample(n=100, random_state=RSEED)\n"
   ]
  },
  {
   "cell_type": "markdown",
   "metadata": {},
   "source": [
    "test_Set"
   ]
  },
  {
   "cell_type": "code",
   "execution_count": null,
   "metadata": {},
   "outputs": [],
   "source": [
    "# Group by 'condition', then count the occurrences of each severity level\n",
    "severity_counts = df_end.groupby(['condition'])['severity'].value_counts().unstack(fill_value=0)\n",
    "# Display the result\n",
    "print(severity_counts)\n",
    "\n",
    "# Count the occurrences of each severity level\n",
    "severity_counts = df_end['severity'].value_counts()\n",
    "# Display the result\n",
    "print(severity_counts)"
   ]
  },
  {
   "cell_type": "code",
   "execution_count": null,
   "metadata": {},
   "outputs": [],
   "source": []
  },
  {
   "cell_type": "code",
   "execution_count": null,
   "metadata": {},
   "outputs": [],
   "source": [
    "from sklearn.model_selection import train_test_split\n",
    "\n",
    "# Split the data into 80% training and 20% testing based on study_id\n",
    "train_ids, test_ids = train_test_split(df_end['study_id'].unique(), test_size=0.2, random_state=RSEED)\n",
    "\n",
    "# Create the training and testing sets\n",
    "train_df = df_end[df_end['study_id'].isin(train_ids)]\n",
    "test_df = df_end[df_end['study_id'].isin(test_ids)]\n",
    "\n",
    "# Display the shapes of the resulting dataframes\n",
    "print(f\"Training set shape: {train_df.shape}\")\n",
    "print(f\"Testing set shape: {test_df.shape}\")"
   ]
  },
  {
   "cell_type": "code",
   "execution_count": null,
   "metadata": {},
   "outputs": [],
   "source": [
    "test_df.head()"
   ]
  },
  {
   "cell_type": "code",
   "execution_count": null,
   "metadata": {},
   "outputs": [],
   "source": [
    "df_end"
   ]
  },
  {
   "cell_type": "code",
   "execution_count": null,
   "metadata": {},
   "outputs": [],
   "source": [
    "# with open(\"help_files/sample_for_images_colab.py\") as file:\n",
    "#    exec(file.read())"
   ]
  },
  {
   "cell_type": "code",
   "execution_count": null,
   "metadata": {},
   "outputs": [],
   "source": []
  },
  {
   "cell_type": "code",
   "execution_count": null,
   "metadata": {},
   "outputs": [],
   "source": [
    "# Save the filtered dataframes to CSV files \n",
    "dataframes = [df_end_full, train_df, test_df, df_end_full]\n",
    "file_names = [\"train_df_3_stenosis.csv\", \"test_df_3_stenosis.csv\"]\n",
    "for df, file_name in zip(dataframes, file_names):\n",
    "    print(f\"df \",df.shape)\n",
    "    df.to_csv(data_path_vor / file_name, index=False)\n",
    "\n",
    " "
   ]
  },
  {
   "cell_type": "code",
   "execution_count": null,
   "metadata": {},
   "outputs": [],
   "source": [
    "print((205+1247+520)*30)"
   ]
  }
 ],
 "metadata": {
  "accelerator": "GPU",
  "colab": {
   "collapsed_sections": [],
   "name": "overfit_and_underfit.ipynb",
   "toc_visible": true
  },
  "kernelspec": {
   "display_name": ".venv",
   "language": "python",
   "name": "python3"
  },
  "language_info": {
   "codemirror_mode": {
    "name": "ipython",
    "version": 3
   },
   "file_extension": ".py",
   "mimetype": "text/x-python",
   "name": "python",
   "nbconvert_exporter": "python",
   "pygments_lexer": "ipython3",
   "version": "3.11.3"
  }
 },
 "nbformat": 4,
 "nbformat_minor": 4
}
