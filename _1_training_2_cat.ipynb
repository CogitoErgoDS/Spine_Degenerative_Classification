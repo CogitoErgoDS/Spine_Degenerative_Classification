{
 "cells": [
  {
   "cell_type": "markdown",
   "metadata": {
    "id": "9FklhSI0Gg9R"
   },
   "source": [
    "Packages:"
   ]
  },
  {
   "cell_type": "code",
   "execution_count": null,
   "metadata": {},
   "outputs": [],
   "source": [
    "import glob\n",
    "import os\n",
    "import warnings\n",
    " \n",
    "import matplotlib.pyplot as plt\n",
    "import numpy as np\n",
    "import pandas as pd\n",
    "import pydicom\n",
    "from pydicom.data import get_testdata_files\n",
    "from sklearn.model_selection import train_test_split\n",
    "\n",
    "from IPython.display import Markdown, display\n",
    "\n",
    " # Import functions from the module\n",
    "import importlib\n",
    "import help_files._0_definitions \n",
    "import  help_files._1_visuals_script\n",
    "# import  help_files._01_load_data\n",
    " # Reload the module to apply the changes to the script\n",
    "importlib.reload(help_files._0_definitions)\n",
    "importlib.reload(help_files._1_visuals_script)\n",
    "# importlib.reload(help_files._01_load_data)\n",
    "import  help_files._1_visuals_script  as pauls_vs\n",
    "# Group by 'condition', 'level', and 'severity' and count occurrences\n",
    "from help_files._0_definitions import count_severity_by_condition_level \n",
    "# Define the path\n",
    "from pathlib import Path\n",
    "\n",
    "pd.set_option(\"display.width\", 1000)  # Set a large width to prevent line wrapping\n",
    "\n",
    "\n",
    " "
   ]
  },
  {
   "cell_type": "code",
   "execution_count": null,
   "metadata": {},
   "outputs": [],
   "source": [
    "### In definitions are all the functions that are used in the notebook and globals\n",
    "with open(\"help_files/_0_definitions.py\") as file:\n",
    "    exec(file.read())\n",
    "### In definitions are all the functions that are used in the notebook and globals\n",
    "with open(\"help_files/_0_run_definitions.py\") as file:\n",
    "    exec(file.read())"
   ]
  },
  {
   "cell_type": "code",
   "execution_count": null,
   "metadata": {},
   "outputs": [],
   "source": [
    "# Specify the file names and DataFrame variable names\n",
    "file_names = [\"train_df_2.csv\"]\n",
    "# Load the data from the CSV files\n",
    "dataframes = [pd.read_csv(data_path_vor / file_name) for file_name in file_names]\n",
    "# Load train_df as a DataFrame\n",
    "train_df = dataframes[0]\n",
    "print(\"DataFrames have been loaded successfully.\")"
   ]
  },
  {
   "cell_type": "code",
   "execution_count": null,
   "metadata": {},
   "outputs": [],
   "source": [
    "train_df['severity'].value_counts()\n"
   ]
  },
  {
   "cell_type": "code",
   "execution_count": null,
   "metadata": {},
   "outputs": [],
   "source": [
    "train_df.dtypes"
   ]
  },
  {
   "cell_type": "code",
   "execution_count": null,
   "metadata": {},
   "outputs": [],
   "source": [
    "# # end sample or small sample    \n",
    "if whole_data_set == True:\n",
    "    print(\"Using the whole data set\")\n",
    "else:\n",
    "    train_df = train_df.sample(n=200, random_state=RSEED)\n",
    "    display(Markdown('<span style=\"color:red\"> this is a small sample : 48692</span>'))\n",
    "\n"
   ]
  },
  {
   "cell_type": "code",
   "execution_count": null,
   "metadata": {},
   "outputs": [],
   "source": [
    "train_df\n"
   ]
  },
  {
   "cell_type": "markdown",
   "metadata": {},
   "source": [
    "Ttrasformaiton and dataloader (do not change over models)"
   ]
  },
  {
   "cell_type": "code",
   "execution_count": null,
   "metadata": {},
   "outputs": [],
   "source": [
    "# define transformation and class\n",
    "import torch\n",
    "from torch import nn, optim\n",
    "from torch.utils.data import Dataset, DataLoader, random_split\n",
    "# %pip install torch torchvision\n",
    "import torchvision.models as models\n",
    "from torchvision import transforms\n",
    "import pydicom\n",
    "# %pip install opencv-python\n",
    "import cv2\n",
    "import pandas as pd\n",
    "\n",
    "# Define the transformations\n",
    "transform = transforms.Compose([\n",
    "    transforms.ToPILImage(),\n",
    "    transforms.Resize((224, 224)),\n",
    "    # transforms.RandomHorizontalFlip(),  # Uncomment if you want to use horizontal flipping\n",
    "    # transforms.RandomRotation(10),     # Uncomment if you want to use rotation\n",
    "    transforms.ColorJitter(brightness=0.2, contrast=0.2, saturation=0.2, hue=0.1),  # Adjust color properties\n",
    "    transforms.ToTensor(),\n",
    "    transforms.Normalize(mean=[0.485, 0.456, 0.406], std=[0.229, 0.224, 0.225])\n",
    "])\n",
    "\n",
    "# Custom Dataset class for loading MRI images\n",
    "class MRIDataset(Dataset):\n",
    "    def __init__(self, data, transform=None):\n",
    "        self.data = data\n",
    "        self.transform = transform\n",
    "\n",
    "        # Ensure severity is in integer format\n",
    "        self.data['severity'] = self.data['severity'].astype(int)\n",
    "\n",
    "    def __getitem__(self, index):\n",
    "        row = self.data.iloc[index]\n",
    "        image_path = row['image_path']\n",
    "        label = row['severity']  # Use severity for the label\n",
    "\n",
    "        dicom_image = pydicom.dcmread(image_path)\n",
    "        image = dicom_image.pixel_array.astype(float)\n",
    "        image = (image / image.max() * 255).astype('uint8')  # Normalize\n",
    "\n",
    "        # Convert the image to RGB if it is grayscale\n",
    "        if len(image.shape) == 2:  # Grayscale\n",
    "            image = cv2.cvtColor(image, cv2.COLOR_GRAY2RGB)\n",
    "\n",
    "        # Apply transformations including augmentation\n",
    "        image_tensor = self.transform(image) if self.transform else torch.from_numpy(image).permute(2, 0, 1)\n",
    "\n",
    "        return image_tensor, torch.tensor(label).long()  # Return label as tensor\n",
    "\n",
    "    def __len__(self):\n",
    "        return len(self.data)\n"
   ]
  },
  {
   "cell_type": "code",
   "execution_count": null,
   "metadata": {},
   "outputs": [],
   "source": [
    "train_data = train_df"
   ]
  },
  {
   "cell_type": "markdown",
   "metadata": {},
   "source": [
    "training model resnet50 sotp if validation and train go apart"
   ]
  },
  {
   "cell_type": "markdown",
   "metadata": {},
   "source": [
    "* Setting the model"
   ]
  },
  {
   "cell_type": "code",
   "execution_count": null,
   "metadata": {},
   "outputs": [],
   "source": [
    "import mlflow\n",
    "import mlflow.pytorch\n",
    "import random\n",
    "# Set random seed for reproducibility\n",
    "seed = 42  # You can choose any integer\n",
    "torch.manual_seed(seed)\n",
    "np.random.seed(seed)  # Set seed for numpy\n",
    "random.seed(seed)  # Set seed for random module\n",
    "\n",
    "# Create a new experiment\n",
    "experiment_name = \"Resnet50_2_cat_basic\"\n",
    "mlflow.set_experiment(experiment_name)"
   ]
  },
  {
   "cell_type": "markdown",
   "metadata": {},
   "source": [
    "* some settings: train validation,  Early stopping parameters"
   ]
  },
  {
   "cell_type": "code",
   "execution_count": null,
   "metadata": {},
   "outputs": [],
   "source": [
    "import torch\n",
    "import torch.nn as nn\n",
    "import torch.optim as optim\n",
    "from torch.utils.data import DataLoader, random_split\n",
    "from torchvision import models\n",
    "# %pip install keras\n",
    "# %pip install tensorflow\n",
    "# from tensorflow.keras.callbacks import EarlyStopping  # Import EarlyStopping\n",
    "import numpy as np  # Import numpy for setting the random seed\n",
    "\n",
    "# Create the dataset\n",
    "dataset = MRIDataset(data=train_data, transform=transform)\n",
    "\n",
    "# Split the dataset into training and validation sets (80% train, 20% validation)\n",
    "train_size = int(0.8 * len(dataset))\n",
    "val_size = len(dataset) - train_size\n",
    "train_dataset, val_dataset = random_split(dataset, [train_size, val_size])\n",
    "\n",
    "# Create DataLoaders\n",
    "train_loader = DataLoader(train_dataset, batch_size=4, shuffle=True)\n",
    "val_loader = DataLoader(val_dataset, batch_size=4, shuffle=False)\n",
    "\n",
    "# Load ResNet-50 and set up for classification\n",
    "device = torch.device('cuda' if torch.cuda.is_available() else 'cpu')\n",
    "num_classes = train_df['severity'].nunique()\n",
    "\n",
    "model = models.resnet50(weights='IMAGENET1K_V1')\n",
    "model.fc = nn.Linear(model.fc.in_features, num_classes)\n",
    "model.to(device)\n",
    "\n",
    "# Define loss functions and optimizer\n",
    "criterion_cel = nn.CrossEntropyLoss()\n",
    "optimizer = optim.Adam(model.parameters(), lr=0.0001)\n",
    "num_epochs = 20\n",
    "# Early stopping parameters\n",
    "\n",
    "# Lists to store loss values for plotting\n",
    "train_losses_cel = []\n",
    "val_losses_cel = []\n",
    "\n",
    "# Early stopping parameters\n",
    "stop_threshold = 0.2  # Threshold for validation loss to diverge from training loss\n",
    "diverge_count = 0\n",
    "max_diverge_count = 3  # Number of epochs validation loss is allowed to diverge\n",
    "\n",
    "# Calculate number of layers in the model\n",
    "num_layers = len(list(model.children()))\n"
   ]
  },
  {
   "cell_type": "markdown",
   "metadata": {},
   "source": [
    "* setting mlflow: end running new model"
   ]
  },
  {
   "cell_type": "code",
   "execution_count": null,
   "metadata": {},
   "outputs": [],
   "source": [
    "import torch\n",
    "import numpy as np\n",
    "\n",
    "# Start MLflow run\n",
    "with mlflow.start_run():\n",
    "    # Log parameters\n",
    "    mlflow.log_param(\"learning_rate\", 0.0001)\n",
    "    mlflow.log_param(\"optimizer\", \"Adam\")\n",
    "    mlflow.log_param(\"batch_size\", 4)\n",
    "    mlflow.log_param(\"num_epochs\", num_epochs)\n",
    "    mlflow.log_param(\"num_classes\", num_classes)\n",
    "    mlflow.log_param(\"model_architecture\", \"ResNet-50\")\n",
    "    mlflow.log_param(\"input_size\", \"224x224\")\n",
    "    mlflow.log_param(\"num_layers\", num_layers)\n",
    "    mlflow.log_param(\"activation_function\", \"ReLU\")\n",
    "    mlflow.log_param(\"pretrained_weights\", \"IMAGENET1K_V1\")\n",
    "\n",
    "    # Example input tensor with the same shape as the model's expected input\n",
    "    example_input = torch.randn(1, 3, 224, 224)  # Batch size 1, 3 color channels, 224x224 image\n",
    "\n",
    "    best_val_loss = float('inf')\n",
    "    patience_counter = 0\n",
    "    diverge_count = 0  # Counter for divergence-based stopping\n",
    "\n",
    "    for epoch in range(num_epochs):\n",
    "        # Training phase\n",
    "        model.train()\n",
    "        running_loss_cel_train = 0.0\n",
    "        running_loss_mse_train = 0.0\n",
    "        \n",
    "        for images, labels in train_loader:\n",
    "            images, labels = images.to(device), labels.to(device)\n",
    "            optimizer.zero_grad()\n",
    "            \n",
    "            outputs = model(images)\n",
    "            \n",
    "            # Cross Entropy Loss\n",
    "            loss_cel = criterion_cel(outputs, labels)\n",
    "            running_loss_cel_train += loss_cel.item()\n",
    "            \n",
    "            # Backward pass and optimization\n",
    "            loss_cel.backward()\n",
    "            optimizer.step()\n",
    "\n",
    "        # Calculate average losses\n",
    "        epoch_loss_cel_train = running_loss_cel_train / len(train_loader)\n",
    "        train_losses_cel.append(epoch_loss_cel_train)\n",
    "\n",
    "        # Log training losses to MLflow\n",
    "        mlflow.log_metric(\"train_loss_cel\", epoch_loss_cel_train, step=epoch)\n",
    "\n",
    "        # Validation phase\n",
    "        model.eval()\n",
    "        running_loss_cel_val = 0.0\n",
    "\n",
    "        with torch.no_grad():\n",
    "            for images, labels in val_loader:\n",
    "                images, labels = images.to(device), labels.to(device)\n",
    "                outputs = model(images)\n",
    "                \n",
    "                # Cross Entropy Loss for validation\n",
    "                loss_cel = criterion_cel(outputs, labels)\n",
    "                running_loss_cel_val += loss_cel.item()\n",
    "                \n",
    "        # Calculate validation losses\n",
    "        epoch_loss_cel_val = running_loss_cel_val / len(val_loader)\n",
    "        val_losses_cel.append(epoch_loss_cel_val)\n",
    "\n",
    "        # Log validation losses to MLflow\n",
    "        mlflow.log_metric(\"val_loss_cel\", epoch_loss_cel_val, step=epoch)\n",
    "\n",
    "        print(f'Epoch [{epoch + 1}/{num_epochs}], '\n",
    "              f'Train Cross Entropy Loss: {epoch_loss_cel_train:.4f}, '\n",
    "              f'Validation Cross Entropy Loss: {epoch_loss_cel_val:.4f}')\n",
    "\n",
    "        # Check for early stopping (divergence-based stopping)\n",
    "        if epoch_loss_cel_val > epoch_loss_cel_train * (1 + stop_threshold):\n",
    "            diverge_count += 1\n",
    "            if diverge_count >= max_diverge_count:\n",
    "                print(f\"Early stopping at epoch {epoch + 1} due to validation loss diverging.\")\n",
    "                break\n",
    "        else:\n",
    "            diverge_count = 0  # Reset diverge count if validation loss is not diverging        \n",
    "\n",
    "        # Check for early stopping (plateau-based stopping)\n",
    "        if epoch_loss_cel_val < best_val_loss:\n",
    "            best_val_loss = epoch_loss_cel_val\n",
    "            patience_counter = 0  # Reset plateau counter if validation loss improves\n",
    "        else:\n",
    "            patience_counter += 1\n",
    "            if patience_counter >= patience:\n",
    "                print(f\"Early stopping at epoch {epoch + 1} due to lack of validation loss improvement.\")\n",
    "                break\n",
    "    print(\"Training complete!\")\n",
    "\n",
    "    # Convert example_input to numpy array\n",
    "    example_input_np = example_input.numpy()\n",
    "\n",
    "    # Log the model with input_example\n",
    "    mlflow.pytorch.log_model(model, \"model\", input_example=example_input_np)\n",
    "    \n",
    "    # Plot and log the loss curves as artifacts\n",
    "    plt.figure(figsize=(10, 5))\n",
    "    plt.plot(train_losses_cel, label='Train Cross Entropy Loss')\n",
    "    plt.plot(val_losses_cel, label='Validation Cross Entropy Loss')\n",
    "    plt.xlabel('Epoch')\n",
    "    plt.ylabel('Loss')\n",
    "    plt.title('Training and Validation Cross Entropy Loss')\n",
    "    plt.legend()\n",
    "    plt.savefig(\"cross_entropy_loss.png\")\n",
    "    mlflow.log_artifact(\"cross_entropy_loss.png\")\n"
   ]
  },
  {
   "cell_type": "markdown",
   "metadata": {},
   "source": [
    "check if mlflow has got saved weights and model"
   ]
  },
  {
   "cell_type": "code",
   "execution_count": null,
   "metadata": {},
   "outputs": [],
   "source": [
    "import mlflow.pytorch\n",
    "\n",
    "# Load the model from the specified run ID and path\n",
    "# Replace <run_id> with your actual run ID and <path_to_model> with the artifact path used during logging\n",
    "loaded_model = mlflow.pytorch.load_model(\"runs:/aa4fb3c2e81a4697997b99cb0b39eb48/model\")\n",
    "\n",
    "# Print model parameters to verify\n",
    "print(loaded_model.state_dict())"
   ]
  }
 ],
 "metadata": {
  "accelerator": "GPU",
  "colab": {
   "collapsed_sections": [],
   "name": "overfit_and_underfit.ipynb",
   "toc_visible": true
  },
  "kernelspec": {
   "display_name": ".venv",
   "language": "python",
   "name": "python3"
  },
  "language_info": {
   "codemirror_mode": {
    "name": "ipython",
    "version": 3
   },
   "file_extension": ".py",
   "mimetype": "text/x-python",
   "name": "python",
   "nbconvert_exporter": "python",
   "pygments_lexer": "ipython3",
   "version": "3.11.3"
  }
 },
 "nbformat": 4,
 "nbformat_minor": 4
}
