{
 "cells": [
  {
   "cell_type": "code",
   "execution_count": 4,
   "metadata": {},
   "outputs": [],
   "source": [
    "import pandas as pd\n",
    "import numpy as np\n",
    "\n",
    "# Define the df_train DataFrame\n",
    "df_train = pd.DataFrame({\n",
    "    \"site_id\": [2, 2, 2, 2, 2],\n",
    "    \"patient_id\": [10006, 10006, 10006, 10006, 10011],\n",
    "    \"image_id\": [462822612, 1459541791, 1864590858, 1874946579, 220375232],\n",
    "    \"laterality\": [\"L\", \"L\", \"R\", \"R\", \"L\"],\n",
    "    \"view\": [\"CC\", \"MLO\", \"MLO\", \"CC\", \"CC\"],\n",
    "    \"age\": [61.0, 61.0, 61.0, 61.0, 55.0],\n",
    "    \"cancer\": [0, 0, 0, 0, 0],\n",
    "    \"biopsy\": [0, 0, 0, 0, 0],\n",
    "    \"invasive\": [0, 0, 0, 0, 0],\n",
    "    \"BIRADS\": [np.nan, np.nan, np.nan, np.nan, 0.0],\n",
    "    \"implant\": [0, 0, 0, 0, 0],\n",
    "    \"density\": [np.nan, np.nan, np.nan, np.nan, np.nan],\n",
    "    \"machine_id\": [29, 29, 29, 29, 21],\n",
    "    \"difficult_negative_case\": [False, False, False, False, True]\n",
    "})\n",
    "\n",
    "df_train"
   ]
  },
  {
   "cell_type": "code",
   "execution_count": null,
   "metadata": {},
   "outputs": [],
   "source": []
  },
  {
   "cell_type": "code",
   "execution_count": 5,
   "metadata": {},
   "outputs": [
    {
     "name": "stdout",
     "output_type": "stream",
     "text": [
      "   class\n",
      "0  Total\n",
      "1  Total\n",
      "2  Total\n",
      "3  Total\n",
      "4  Total\n"
     ]
    }
   ],
   "source": [
    "# Code to create the 'data' DataFrame with the 'class' column\n",
    "data = pd.DataFrame(\n",
    "    np.concatenate([\n",
    "        ['Total'] * len(df_train),  # Label 'Total' for each row in df_train\n",
    "        ['Malignant Cancer'] * len(df_train[df_train['cancer'] == 1]),  # Label 'Malignant Cancer' for rows with cancer == 1\n",
    "        ['Invasive Cancer'] * len(df_train[(df_train['cancer'] == 1) & (df_train['invasive'] == 1)])  # Label 'Invasive Cancer' for rows with cancer == 1 and invasive == 1\n",
    "    ]),\n",
    "    columns=[\"class\"]\n",
    ")\n",
    "\n",
    "print(data)"
   ]
  },
  {
   "cell_type": "code",
   "execution_count": 6,
   "metadata": {},
   "outputs": [
    {
     "data": {
      "text/html": [
       "<div>\n",
       "<style scoped>\n",
       "    .dataframe tbody tr th:only-of-type {\n",
       "        vertical-align: middle;\n",
       "    }\n",
       "\n",
       "    .dataframe tbody tr th {\n",
       "        vertical-align: top;\n",
       "    }\n",
       "\n",
       "    .dataframe thead th {\n",
       "        text-align: right;\n",
       "    }\n",
       "</style>\n",
       "<table border=\"1\" class=\"dataframe\">\n",
       "  <thead>\n",
       "    <tr style=\"text-align: right;\">\n",
       "      <th></th>\n",
       "      <th>site_id</th>\n",
       "      <th>patient_id</th>\n",
       "      <th>image_id</th>\n",
       "      <th>laterality</th>\n",
       "      <th>view</th>\n",
       "      <th>age</th>\n",
       "      <th>cancer</th>\n",
       "      <th>biopsy</th>\n",
       "      <th>invasive</th>\n",
       "      <th>BIRADS</th>\n",
       "      <th>implant</th>\n",
       "      <th>density</th>\n",
       "      <th>machine_id</th>\n",
       "      <th>difficult_negative_case</th>\n",
       "    </tr>\n",
       "  </thead>\n",
       "  <tbody>\n",
       "  </tbody>\n",
       "</table>\n",
       "</div>"
      ],
      "text/plain": [
       "Empty DataFrame\n",
       "Columns: [site_id, patient_id, image_id, laterality, view, age, cancer, biopsy, invasive, BIRADS, implant, density, machine_id, difficult_negative_case]\n",
       "Index: []"
      ]
     },
     "execution_count": 6,
     "metadata": {},
     "output_type": "execute_result"
    }
   ],
   "source": [
    "# The not-malignant cancer cases were limited to biopsy cases.\n",
    "DF_train = df_train[df_train['biopsy'] == 1].reset_index(drop = True)\n",
    "DF_train.head()"
   ]
  }
 ],
 "metadata": {
  "kernelspec": {
   "display_name": ".venv",
   "language": "python",
   "name": "python3"
  },
  "language_info": {
   "codemirror_mode": {
    "name": "ipython",
    "version": 3
   },
   "file_extension": ".py",
   "mimetype": "text/x-python",
   "name": "python",
   "nbconvert_exporter": "python",
   "pygments_lexer": "ipython3",
   "version": "3.11.3"
  }
 },
 "nbformat": 4,
 "nbformat_minor": 2
}
