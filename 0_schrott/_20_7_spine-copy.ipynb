{
 "cells": [
  {
   "cell_type": "markdown",
   "metadata": {
    "id": "9FklhSI0Gg9R"
   },
   "source": [
    "Necessary packages:"
   ]
  },
  {
   "cell_type": "code",
   "execution_count": null,
   "metadata": {},
   "outputs": [],
   "source": [
    "import glob\n",
    "import os\n",
    "import warnings\n",
    "\n",
    "\n",
    "import matplotlib.pyplot as plt\n",
    "import numpy as np\n",
    "import pandas as pd\n",
    "\n",
    "import pydicom\n",
    "from pydicom.data import get_testdata_files\n",
    "from sklearn.model_selection import train_test_split\n",
    "\n",
    "from IPython.display import Markdown, display\n",
    "\n",
    " # Import functions from the module\n",
    "import importlib\n",
    "import help_files._0_definitions \n",
    "import  help_files._1_visuals_script\n",
    "# import  help_files._01_load_data\n",
    " # Reload the module to apply the changes to the script\n",
    "importlib.reload(help_files._0_definitions)\n",
    "importlib.reload(help_files._1_visuals_script)\n",
    "# importlib.reload(help_files._01_load_data)\n",
    "import  help_files._1_visuals_script  as pauls_vs\n",
    "# Group by 'condition', 'level', and 'severity' and count occurrences\n",
    "from help_files._0_definitions import count_severity_by_condition_level \n",
    "# Define the path\n",
    "from pathlib import Path\n",
    "\n",
    "pd.set_option(\"display.width\", 1000)  # Set a large width to prevent line wrapping\n",
    " "
   ]
  },
  {
   "cell_type": "code",
   "execution_count": null,
   "metadata": {},
   "outputs": [],
   "source": [
    "### In definitions are all the functions that are used in the notebook and globals\n",
    "with open(\"help_files/_0_definitions.py\") as file:\n",
    "    exec(file.read())"
   ]
  },
  {
   "cell_type": "code",
   "execution_count": null,
   "metadata": {},
   "outputs": [],
   "source": [
    "# Load the data from _01_load_data\n",
    "file_names = [\"X_train.csv\", \"X_train_coor.csv\", \"X_train_des.csv\"]\n",
    "dataframes = [pd.read_csv(data_path_vor / file_name) for file_name in file_names]\n",
    "X_train, X_train_coor, X_train_des = dataframes"
   ]
  },
  {
   "cell_type": "markdown",
   "metadata": {},
   "source": [
    "### X_train manipulation"
   ]
  },
  {
   "cell_type": "code",
   "execution_count": null,
   "metadata": {},
   "outputs": [],
   "source": [
    "X_train"
   ]
  },
  {
   "cell_type": "markdown",
   "metadata": {},
   "source": []
  },
  {
   "cell_type": "code",
   "execution_count": null,
   "metadata": {},
   "outputs": [],
   "source": [
    "# Summary statistics of the dataframe\n",
    "summary = X_train.describe(include='all')\n",
    "\n",
    "# Information about the dataframe\n",
    "info = X_train.info()\n",
    "\n",
    "# Display the summary and info\n",
    "print(summary)\n",
    "print(info)"
   ]
  },
  {
   "cell_type": "code",
   "execution_count": null,
   "metadata": {},
   "outputs": [],
   "source": [
    "X_train.dtypes"
   ]
  },
  {
   "cell_type": "code",
   "execution_count": null,
   "metadata": {},
   "outputs": [],
   "source": [
    "# List of columns to iterate through: \n",
    "columns_to_iterate = [\n",
    "    'spinal_canal_stenosis_l1_l2', 'spinal_canal_stenosis_l2_l3', 'spinal_canal_stenosis_l3_l4',\n",
    "    'spinal_canal_stenosis_l4_l5', 'spinal_canal_stenosis_l5_s1', 'left_neural_foraminal_narrowing_l1_l2',\n",
    "    'left_neural_foraminal_narrowing_l2_l3', 'left_neural_foraminal_narrowing_l3_l4', 'left_neural_foraminal_narrowing_l4_l5',\n",
    "    'left_neural_foraminal_narrowing_l5_s1', 'right_neural_foraminal_narrowing_l1_l2', 'right_neural_foraminal_narrowing_l2_l3',\n",
    "    'right_neural_foraminal_narrowing_l3_l4', 'right_neural_foraminal_narrowing_l4_l5', 'right_neural_foraminal_narrowing_l5_s1',\n",
    "    'left_subarticular_stenosis_l1_l2', 'left_subarticular_stenosis_l2_l3', 'left_subarticular_stenosis_l3_l4',\n",
    "    'left_subarticular_stenosis_l4_l5', 'left_subarticular_stenosis_l5_s1', 'right_subarticular_stenosis_l1_l2',\n",
    "    'right_subarticular_stenosis_l2_l3', 'right_subarticular_stenosis_l3_l4', 'right_subarticular_stenosis_l4_l5',\n",
    "    'right_subarticular_stenosis_l5_s1'\n",
    "]\n",
    "\n",
    "\n",
    "# Example operation: Fill missing values with 'Unknown'\n",
    "for column in columns_to_iterate:\n",
    "    X_train[column] = X_train[column].map({'Normal/Mild': 1, 'Moderate': 2, 'Severe': 3})\n",
    "\n",
    "X_train"
   ]
  },
  {
   "cell_type": "code",
   "execution_count": null,
   "metadata": {},
   "outputs": [],
   "source": []
  },
  {
   "cell_type": "markdown",
   "metadata": {},
   "source": [
    "Disribution of different damages in spine"
   ]
  },
  {
   "cell_type": "code",
   "execution_count": null,
   "metadata": {
    "vscode": {
     "languageId": "ruby"
    }
   },
   "outputs": [],
   "source": [
    "# Create an empty list to store the distribution data\n",
    "distribution_data = []\n",
    "\n",
    "# Calculate the distribution for each column\n",
    "for column in columns_to_iterate:\n",
    "    counts = X_train[column].value_counts().sort_index()\n",
    "    total_counts = counts.sum()\n",
    "    distribution_data.append({\n",
    "        'Condition': column,\n",
    "        'Normal/Mild': counts.get(1.0, 0),\n",
    "        'Moderate': counts.get(2.0, 0),\n",
    "        'Severe': counts.get(3.0, 0)\n",
    "    })\n",
    "    distribution_data[-1]['Normal/Mild (%)'] = (counts.get(1.0, 0) / total_counts) * 100\n",
    "    distribution_data[-1]['Moderate (%)'] = (counts.get(2.0, 0) / total_counts) * 100\n",
    "    distribution_data[-1]['Severe (%)'] = (counts.get(3.0, 0) / total_counts) * 100\n",
    "\n",
    "# Convert the list to a DataFrame\n",
    "distribution_df = pd.DataFrame(distribution_data)\n",
    "\n",
    "# Display the distribution DataFrame\n",
    "print(distribution_df)\n",
    "\n",
    " \n"
   ]
  },
  {
   "cell_type": "code",
   "execution_count": null,
   "metadata": {},
   "outputs": [],
   "source": [
    "X_train_des"
   ]
  },
  {
   "cell_type": "code",
   "execution_count": null,
   "metadata": {},
   "outputs": [],
   "source": [
    "## reshaping the data from wide to long\n",
    "reshape_list = ['spinal_canal_stenosis_l1_l2', 'spinal_canal_stenosis_l2_l3', 'spinal_canal_stenosis_l3_l4', 'spinal_canal_stenosis_l4_l5', 'spinal_canal_stenosis_l5_s1', 'left_neural_foraminal_narrowing_l1_l2', 'left_neural_foraminal_narrowing_l2_l3', 'left_neural_foraminal_narrowing_l3_l4', 'left_neural_foraminal_narrowing_l4_l5', 'left_neural_foraminal_narrowing_l5_s1', 'right_neural_foraminal_narrowing_l1_l2', 'right_neural_foraminal_narrowing_l2_l3', 'right_neural_foraminal_narrowing_l3_l4', 'right_neural_foraminal_narrowing_l4_l5', 'right_neural_foraminal_narrowing_l5_s1', 'left_subarticular_stenosis_l1_l2', 'left_subarticular_stenosis_l2_l3', 'left_subarticular_stenosis_l3_l4', 'left_subarticular_stenosis_l4_l5', 'left_subarticular_stenosis_l5_s1', 'right_subarticular_stenosis_l1_l2', 'right_subarticular_stenosis_l2_l3', 'right_subarticular_stenosis_l3_l4', 'right_subarticular_stenosis_l4_l5', 'right_subarticular_stenosis_l5_s1']  \n",
    "# Assuming df is your DataFrame\n",
    "reshaped_train = pd.melt(X_train, \n",
    "                  id_vars=[\"study_id\"],  # Keep study_id as is\n",
    "                  var_name=\"categorie\",  # New column for the condition names\n",
    "                  value_name=\"severity\")   # New column for the values\n",
    "\n",
    "# Display the reshaped DataFrame\n",
    "# Ensure the file is not open in another program and you have write permissions\n",
    "# reshaped_train.to_csv(path / \"starfor_sorting_new.csv\",  index=False)\n",
    " \n",
    " \n",
    "X_train = reshaped_train\n",
    "X_train = X_train.sort_values(by=['study_id', 'categorie'], ignore_index=True)\n",
    "X_train.head()"
   ]
  },
  {
   "cell_type": "code",
   "execution_count": null,
   "metadata": {},
   "outputs": [],
   "source": [
    "# Split the string into two parts: 'spinal_canal_stenosis' and 'l1_l2'\n",
    "split_columns = X_train['categorie'].str.rsplit('_', n=2)\n",
    "# Combine the first part as 'condition' and the last two parts as 'level'\n",
    "X_train['condition'] = split_columns.str[0]\n",
    "X_train['level'] = split_columns.str[1] + '_' + split_columns.str[2]\n",
    "\n",
    "X_train "
   ]
  },
  {
   "cell_type": "code",
   "execution_count": null,
   "metadata": {},
   "outputs": [],
   "source": [
    "## adjusting srtings: disenabling the _ and making all lower case\n",
    "X_train['condition'] = X_train['condition'].str.replace('_', ' ')\n",
    "X_train['level'] = X_train['level'].str.replace('_', '/')\n",
    "\n",
    "\n",
    "X_train_coor['condition'] = X_train_coor['condition'].str.lower()\n",
    "X_train_coor['level'] = X_train_coor['level'].str.lower()\n",
    "X_train.head()"
   ]
  },
  {
   "cell_type": "code",
   "execution_count": null,
   "metadata": {},
   "outputs": [],
   "source": []
  },
  {
   "cell_type": "markdown",
   "metadata": {},
   "source": [
    "### Select which kind of damage"
   ]
  },
  {
   "cell_type": "code",
   "execution_count": null,
   "metadata": {},
   "outputs": [],
   "source": [
    "# keep only left neural foraminal narrowing l4/l5\n",
    "# Filter the DataFrame to keep only rows where the condition is either left_subarticular_stenosis_l4_l5 or right_subarticular_stenosis_l4_l5\n",
    "filtered_df = X_train[(X_train['condition'].str.contains('left neural foraminal narrowing')) & (X_train['level'] == 'l5/s1')]\n",
    "print(filtered_df)\n",
    "\n",
    "X_train = filtered_df\n"
   ]
  },
  {
   "cell_type": "code",
   "execution_count": null,
   "metadata": {},
   "outputs": [],
   "source": [
    "X_train "
   ]
  },
  {
   "cell_type": "code",
   "execution_count": null,
   "metadata": {},
   "outputs": [],
   "source": [
    "# Group by 'categorie' and 'condition', then count the occurrences of each severity level\n",
    "severity_counts = X_train.groupby(['categorie', 'condition'])['severity'].value_counts().unstack(fill_value=0)\n",
    "# Display the result\n",
    "print(severity_counts)\n",
    "\n"
   ]
  },
  {
   "cell_type": "code",
   "execution_count": null,
   "metadata": {},
   "outputs": [],
   "source": [
    "unique_study_ids_train = X_train['study_id'].nunique()\n",
    "unique_study_ids_train_coor = X_train_coor['study_id'].nunique()\n",
    "\n",
    "print(f\"Number of unique study_id in X_train: {unique_study_ids_train}\")\n",
    "print(f\"Number of unique study_id in X_train_coor: {unique_study_ids_train_coor}\")"
   ]
  },
  {
   "cell_type": "code",
   "execution_count": null,
   "metadata": {},
   "outputs": [],
   "source": [
    " # get rid of persons with no coordinates\n",
    "X_train = X_train[X_train['study_id'].isin(X_train_coor['study_id'])]"
   ]
  },
  {
   "cell_type": "code",
   "execution_count": null,
   "metadata": {},
   "outputs": [],
   "source": [
    "unique_study_ids_train = X_train['study_id'].nunique()\n",
    "unique_study_ids_train_coor = X_train_coor['study_id'].nunique()\n",
    "\n",
    "print(f\"Number of unique study_id in X_train: {unique_study_ids_train}\")\n",
    "print(f\"Number of unique study_id in X_train_coor: {unique_study_ids_train_coor}\")"
   ]
  },
  {
   "cell_type": "markdown",
   "metadata": {},
   "source": [
    "merging X_train and X_train_coor "
   ]
  },
  {
   "cell_type": "code",
   "execution_count": null,
   "metadata": {},
   "outputs": [],
   "source": [
    "# Perform a left join between merged_df an X_train on multiple variables\n",
    "merged_df = pd.merge(X_train, X_train_coor, on=['study_id', 'condition', 'level'], how='left')\n",
    "# Display the merged DataFrame\n",
    "\n",
    "merged_df = merged_df.sort_values(by=['categorie'], ignore_index=True) \n",
    "merged_df.head()"
   ]
  },
  {
   "cell_type": "code",
   "execution_count": null,
   "metadata": {},
   "outputs": [],
   "source": [
    "# Group by 'categorie' and 'condition', then count the occurrences of each severity level\n",
    "severity_counts = X_train.groupby(['categorie', 'condition'])['severity'].value_counts().unstack(fill_value=0)\n",
    "# Display the result\n",
    "print(severity_counts)"
   ]
  },
  {
   "cell_type": "markdown",
   "metadata": {},
   "source": [
    "some statistics of data set"
   ]
  },
  {
   "cell_type": "code",
   "execution_count": null,
   "metadata": {},
   "outputs": [],
   "source": [
    "# Count total rows in each DataFrame before the merge\n",
    "print(f\"Rows in X_train: {len(X_train)}\")\n",
    "print(f\"Rows in X_train_coor: {len(X_train_coor)}\")\n",
    "\n",
    "# Count total rows in the merged DataFrame\n",
    "print(f\"Rows in merged_df: {len(merged_df)}\")\n",
    "\n",
    "# Find out how many rows have missing values in columns from X_train_coor after the merge\n",
    "# Assuming columns from X_train_coor start with a common prefix or are listed in a known list\n",
    "columns_from_X_train_coor = [col for col in X_train_coor.columns if col not in ['study_id', 'condition', 'level']]\n",
    "missing_rows = merged_df[columns_from_X_train_coor].isnull().all(axis=1).sum()\n",
    "\n",
    "# Create a new DataFrame for study_ids with at least one row having missing values in columns from X_train_coor\n",
    "missing_study_ids = merged_df[merged_df[columns_from_X_train_coor].isnull().any(axis=1)]['study_id'].unique()\n",
    "missing_persons_df = merged_df[merged_df['study_id'].isin(missing_study_ids)]\n",
    "missing_persons_df = missing_persons_df.sort_values(by=['study_id', 'categorie'], ignore_index=True)\n",
    " \n",
    "\n",
    "print(f\"Rows in merged_df without matching rows in X_train_coor: {missing_rows}\")\n",
    "print(f\"Rows in merged_df with matches from X_train_coor: {len(merged_df) - missing_rows}\")"
   ]
  },
  {
   "cell_type": "code",
   "execution_count": null,
   "metadata": {},
   "outputs": [],
   "source": [
    "missing_persons_df.head()"
   ]
  },
  {
   "cell_type": "code",
   "execution_count": null,
   "metadata": {},
   "outputs": [],
   "source": []
  },
  {
   "cell_type": "code",
   "execution_count": null,
   "metadata": {},
   "outputs": [],
   "source": [
    "# drop rows with missing values in columns from X_train_coor\n",
    "merged_df = merged_df.dropna(subset=columns_from_X_train_coor)\n",
    "display(Markdown('<span style=\"color:red\">later on to take it back to the original shape : 48692</span>'))\n",
    "merged_df"
   ]
  },
  {
   "cell_type": "code",
   "execution_count": null,
   "metadata": {},
   "outputs": [],
   "source": [
    "# Group by 'categorie' and 'condition', then count the occurrences of each severity level\n",
    "severity_counts = merged_df.groupby(['categorie', 'condition'])['severity'].value_counts().unstack(fill_value=0)\n",
    "# Display the result\n",
    "print(severity_counts)"
   ]
  },
  {
   "cell_type": "code",
   "execution_count": null,
   "metadata": {},
   "outputs": [],
   "source": [
    "merged_df"
   ]
  },
  {
   "cell_type": "markdown",
   "metadata": {},
   "source": [
    "Folder with images: preparing paths for merging with main data "
   ]
  },
  {
   "cell_type": "markdown",
   "metadata": {},
   "source": [
    " define which mri type adequate for my "
   ]
  },
  {
   "cell_type": "code",
   "execution_count": null,
   "metadata": {},
   "outputs": [],
   "source": [
    "X_train_des.dtypes"
   ]
  },
  {
   "cell_type": "code",
   "execution_count": null,
   "metadata": {},
   "outputs": [],
   "source": [
    "X_train_des = X_train_des[X_train_des['series_description'] == 'Sagittal T2/STIR']\n",
    "X_train_des.head()"
   ]
  },
  {
   "cell_type": "markdown",
   "metadata": {},
   "source": [
    "Paths to images constructing data frame: two options how to do"
   ]
  },
  {
   "cell_type": "code",
   "execution_count": null,
   "metadata": {},
   "outputs": [],
   "source": [
    "# using X_train_desÖ Ecxell table is better than taking the path from the folders \n",
    "import re\n",
    "\n",
    "def paths_to_images(df, data_dir):\n",
    "    image_paths = []\n",
    "    for study_id, series_id in zip(df['study_id'], df['series_id']):\n",
    "        study_dir = os.path.join(data_dir, str(study_id))\n",
    "        series_dir = os.path.join(study_dir, str(series_id))\n",
    "        \n",
    "        # List images in the series directory\n",
    "        images = os.listdir(series_dir)\n",
    "        # Create full paths for each image\n",
    "        image_paths.extend([os.path.join(series_dir, img) for img in images])\n",
    "        \n",
    "    return image_paths\n",
    "\n",
    "image_paths = paths_to_images(X_train_des, os.path.join(\"data/train_images_origin\"))\n",
    "\n",
    "# Sort the image paths to ensure numerical order\n",
    "def numerical_sort(value):\n",
    "    parts = re.split(r'(\\d+)', value)\n",
    "    return [int(part) if part.isdigit() else part for part in parts]\n",
    "\n",
    "image_paths = sorted(image_paths, key=numerical_sort)\n",
    "image_paths[:75]\n",
    "\n",
    "df_image_paths = pd.DataFrame(image_paths, columns=['image_path'])\n",
    "df_image_paths.head()"
   ]
  },
  {
   "cell_type": "code",
   "execution_count": null,
   "metadata": {},
   "outputs": [],
   "source": [
    "\"\"\" # brauche ich nicht Using real folders and images:  \n",
    "# path to images folder and images inside the folder\n",
    "import re\n",
    "# Define the main directory\n",
    "main_dir = \"data/train_images\"\n",
    "\n",
    "def paths_to_images_2(main_dir):\n",
    "    image_paths = []\n",
    "    # Walk through the directory structure starting from the main directory\n",
    "    for root, subdirs, files in os.walk(main_dir):\n",
    "        for file in files:\n",
    "            # Create the full path for each image\n",
    "            print(file)\n",
    "            file_path = os.path.join(root, file)\n",
    "            image_paths.append(file_path)\n",
    "\n",
    "    return image_paths\n",
    "\n",
    "paths_to_images_2(main_dir)\n",
    "\n",
    "\n",
    "\n",
    "################   sort path images in numerical order  \n",
    "# Define the main directory\n",
    "main_dir = \"data/train_images\"\n",
    "\n",
    "# Get the image paths\n",
    "image_paths2 = paths_to_images_2(main_dir)\n",
    "\n",
    "# Sort the image paths to ensure numerical order\n",
    "def numerical_sort(value):\n",
    "    parts = re.split(r'(\\d+)', value)\n",
    "    return [int(part) if part.isdigit() else part for part in parts]\n",
    "\n",
    "image_paths2 = sorted(image_paths2, key=numerical_sort)\n",
    "image_paths2[:75]\n",
    "\n",
    "df_image_paths2 = pd.DataFrame(image_paths2, columns=['image_path'])\n",
    "df_image_paths2.head()\n",
    " \n",
    "\"\"\""
   ]
  },
  {
   "cell_type": "code",
   "execution_count": null,
   "metadata": {},
   "outputs": [],
   "source": [
    "df_image_paths['image_path'] = df_image_paths['image_path'].str.replace('\\\\', '/')\n",
    "df_image_paths.head()"
   ]
  },
  {
   "cell_type": "code",
   "execution_count": null,
   "metadata": {},
   "outputs": [],
   "source": [
    "# Split the path and extract the study_id: make integer type of study_id\n",
    "def safe_int_conversion(x):\n",
    "    try:\n",
    "        return int(x)\n",
    "    except OverflowError:\n",
    "        return None  # or handle it in another way\n",
    "\n",
    "df_image_paths['study_id'] = df_image_paths['image_path'].apply(lambda x: safe_int_conversion(x.split('/')[2]))\n",
    "df_image_paths['study_id'] = df_image_paths['study_id'].astype(int)\n",
    "df_image_paths.head(75)"
   ]
  },
  {
   "cell_type": "code",
   "execution_count": null,
   "metadata": {},
   "outputs": [],
   "source": [
    "df_image_paths.dtypes"
   ]
  },
  {
   "cell_type": "code",
   "execution_count": null,
   "metadata": {},
   "outputs": [],
   "source": [
    "# keep only selected persons \n",
    "from help_files._0_definitions import keep_persons, study_ids_to_keep, all_persons\n",
    "voraluf = keep_persons(df_image_paths, study_ids_to_keep, all_persons)\n",
    "df_image_paths = voraluf\n",
    "df_image_paths"
   ]
  },
  {
   "cell_type": "markdown",
   "metadata": {},
   "source": [
    "Join  X_train and df_image_paths"
   ]
  },
  {
   "cell_type": "code",
   "execution_count": null,
   "metadata": {},
   "outputs": [],
   "source": [
    "\"\"\" some checks \n",
    "df_image_paths['count'] = df_image_paths.groupby('study_id').cumcount() + 1\n",
    "df_image_paths['count_per_person'] = df_image_paths.groupby('study_id')['study_id'].transform('count')\n",
    "df_image_paths['mean_per_of_raws'] = df_image_paths.groupby('study_id').first()['count_per_person'].mean()\n",
    "df_image_paths['first_row_flag'] = df_image_paths.groupby('study_id').cumcount().apply(lambda x: 1 if x == 0 else 0)\n",
    "df_image_paths['mean_per_of_raws2'] = np.where(df_image_paths['first_row_flag'] == 1, df_image_paths['count_per_person'].mean(), np.nan)\n",
    "df_image_paths.head(75)\n",
    "\n",
    "print(\"at average there are 81 images per person\")\n",
    "\"\"\""
   ]
  },
  {
   "cell_type": "markdown",
   "metadata": {},
   "source": [
    "merign: 1:to many left join: df_image_paths merged to merged_df"
   ]
  },
  {
   "cell_type": "code",
   "execution_count": null,
   "metadata": {},
   "outputs": [],
   "source": [
    "# join 1 to many: X_train and df_image_paths\n",
    "df_end = merged_df.merge(df_image_paths, on='study_id', how='left')\n",
    "df_end.head()\n"
   ]
  },
  {
   "cell_type": "code",
   "execution_count": null,
   "metadata": {},
   "outputs": [],
   "source": [
    "# Call the function count_severity_by_condition_level for checking the count of severity by condition and level\n",
    " \n",
    "print(\"\\nMerged DataFrame:\")\n",
    "count_severity_by_condition_level(df_end)"
   ]
  },
  {
   "cell_type": "code",
   "execution_count": null,
   "metadata": {},
   "outputs": [],
   "source": [
    "# join 1 to many: X_train and df_image_paths\n",
    "\n",
    "df_end = df_end.drop(columns=['categorie', 'instance_number'])\n",
    "df_end.shape\n",
    "\n",
    "# Define data_path_vor\n",
    " \n",
    " \n",
    "df_end.head()   "
   ]
  },
  {
   "cell_type": "code",
   "execution_count": null,
   "metadata": {},
   "outputs": [],
   "source": [
    "# Call the function count_severity_by_condition_level for checking the count of severity by condition and level\n",
    " \n",
    "print(\"\\nMerged DataFrame:\")\n",
    "count_severity_by_condition_level(df_end)"
   ]
  },
  {
   "cell_type": "code",
   "execution_count": null,
   "metadata": {},
   "outputs": [],
   "source": [
    "before = df_end.shape[0]\n",
    "# Option 1: Drop rows with NaN values in image_path\n",
    "df_end = df_end.dropna(subset=['image_path'])\n",
    "print(df_end[df_end['image_path'].isna()])\n",
    "after = df_end.shape[0]\n",
    "print(f\"Number of rows dropped: {before}, after: {after}, dropped: {before - after}\") \n"
   ]
  },
  {
   "cell_type": "code",
   "execution_count": null,
   "metadata": {},
   "outputs": [],
   "source": [
    "print(df_end.to_string(index=False, header=True))"
   ]
  },
  {
   "cell_type": "code",
   "execution_count": null,
   "metadata": {},
   "outputs": [],
   "source": [
    "# Call the function count_severity_by_condition_level for checking the count of severity by condition and level\n",
    " \n",
    "print(\"\\nMerged DataFrame:\")\n",
    "count_severity_by_condition_level(df_end)\n"
   ]
  },
  {
   "cell_type": "code",
   "execution_count": null,
   "metadata": {},
   "outputs": [],
   "source": [
    "# Convert image_path to string if necessary\n",
    "df_end['image_path'] = df_end['image_path'].astype(str)\n",
    "# Print out the image_path values to inspect\n",
    "print(df_end['image_path'].head())"
   ]
  },
  {
   "cell_type": "code",
   "execution_count": null,
   "metadata": {},
   "outputs": [],
   "source": [
    "df_end.dtypes"
   ]
  },
  {
   "cell_type": "markdown",
   "metadata": {},
   "source": [
    "random sample selection\n"
   ]
  },
  {
   "cell_type": "code",
   "execution_count": null,
   "metadata": {},
   "outputs": [],
   "source": [
    "from help_files._0_definitions import generate_sample \n",
    "print(full_sample)"
   ]
  },
  {
   "cell_type": "code",
   "execution_count": null,
   "metadata": {},
   "outputs": [],
   "source": [
    "# Generate a sample of the DataFrame\n",
    "df_end = generate_sample(df_end)\n",
    "df_end"
   ]
  },
  {
   "cell_type": "code",
   "execution_count": null,
   "metadata": {},
   "outputs": [],
   "source": [
    "print(\"\\nMerged DataFrame:\")\n",
    "count_severity_by_condition_level(df_end)"
   ]
  },
  {
   "cell_type": "markdown",
   "metadata": {},
   "source": [
    "the code below only once: it trasforms the images and saves them (see _02_transform_images): however it transforms only 'Sagittal T2/STIR' pictures. But for the whole sample it were just 7 minutes"
   ]
  },
  {
   "cell_type": "code",
   "execution_count": null,
   "metadata": {},
   "outputs": [],
   "source": [
    "# transform images: already predtransforemed\n",
    "\"\"\"\n",
    "with open(\"help_files/_02_transform_images.py\") as file:\n",
    "    exec(file.read())\n",
    "\"\"\" \n",
    " "
   ]
  },
  {
   "cell_type": "markdown",
   "metadata": {},
   "source": [
    "select randomly one raw for each study_id"
   ]
  },
  {
   "cell_type": "code",
   "execution_count": null,
   "metadata": {},
   "outputs": [],
   "source": []
  },
  {
   "cell_type": "code",
   "execution_count": null,
   "metadata": {},
   "outputs": [],
   "source": [
    "# Randomly select one row from each study_id, ensuring sample size does not exceed population size\n",
    "random_sample_df = df_end.groupby('study_id').apply(lambda x: x.sample(n=min(20, len(x)), random_state=RSEED)).reset_index(drop=True)\n",
    "random_sample_df\n",
    "\n",
    "# Create a new column in df_end to mark samples\n",
    "df_end['sampled'] = df_end['study_id'].isin(random_sample_df['study_id'])\n",
    "\n",
    "# Reset index to ensure 'index' column is available\n",
    "df_end = df_end.reset_index()\n",
    "\n",
    "# Mark the sampled rows with a flag (True if sampled, False otherwise)\n",
    "df_end['sampled'] = df_end.apply(lambda row: row['study_id'] in random_sample_df['study_id'].values and row['index'] in random_sample_df.index.values, axis=1)\n",
    "\n",
    "# Display the updated df_end with the sampled column\n",
    "print(df_end.head())\n"
   ]
  },
  {
   "cell_type": "code",
   "execution_count": null,
   "metadata": {},
   "outputs": [],
   "source": [
    "# Call the function count_severity_by_condition_level for checking the count of severity by condition and level\n",
    "count_severity_by_condition_level(random_sample_df)"
   ]
  },
  {
   "cell_type": "code",
   "execution_count": null,
   "metadata": {},
   "outputs": [],
   "source": [
    "display(Markdown('<span style=\"color:red\"> think about taking samples from diferenct perons for sevity : 48692</span>'))"
   ]
  },
  {
   "cell_type": "markdown",
   "metadata": {},
   "source": [
    "Number of person for each severity"
   ]
  },
  {
   "cell_type": "code",
   "execution_count": null,
   "metadata": {},
   "outputs": [],
   "source": [
    "# Function to get random samples for each severity level\n",
    "unselected_df = df_end[~df_end['sampled']]\n",
    "number_persons_train = 1000\n",
    "def get_random_samples(df, severity, number, random_state=RSEED):\n",
    "    return df[df['severity'] == severity].sample(n=number_persons_train, random_state=random_state)\n",
    "\n",
    "# Get random samples for each severity level\n",
    "# random_sample_severity_1 = get_random_samples(unselected_df, severity=1.0, number=number_persons_train)\n",
    "# random_sample_severity_2 = get_random_samples(unselected_df, severity=2.0, number=number_persons_train)\n",
    "# random_sample_severity_3 = get_random_samples(unselected_df, severity=3.0, number=number_persons_train)\n",
    "\n",
    "random_sample_severity_1 = get_random_samples(random_sample_df, severity=1.0, number=number_persons_train)\n",
    "random_sample_severity_2 = get_random_samples(random_sample_df, severity=2.0, number=number_persons_train)\n",
    "random_sample_severity_3 = get_random_samples(random_sample_df, severity=3.0, number=number_persons_train)\n",
    "\n",
    "# Combine the samples into one DataFrame\n",
    "random_samples_combined = pd.concat([random_sample_severity_1, random_sample_severity_2, random_sample_severity_3])\n",
    "\n",
    "# Display the combined random samples\n",
    "random_samples_combined.head()\n",
    "random_samples_combined = random_samples_combined.sort_values(by='study_id').reset_index(drop=True)\n",
    "random_samples_combined.head()\n",
    "\n",
    "\n",
    " "
   ]
  },
  {
   "cell_type": "code",
   "execution_count": null,
   "metadata": {},
   "outputs": [],
   "source": [
    "# prints in the wide format\n",
    "df_end = random_samples_combined\n",
    "\n",
    "\n",
    "# Assuming df_end is your DataFrame\n",
    "print(df_end.to_string(index=False, header=True))"
   ]
  },
  {
   "cell_type": "code",
   "execution_count": null,
   "metadata": {},
   "outputs": [],
   "source": [
    "df_end.dtypes\n",
    "df_end['condition'] = df_end['condition'].astype('category').cat.codes"
   ]
  },
  {
   "cell_type": "markdown",
   "metadata": {},
   "source": [
    "first try "
   ]
  },
  {
   "cell_type": "code",
   "execution_count": null,
   "metadata": {},
   "outputs": [],
   "source": [
    "df_end = random_samples_combined\n",
    " \n",
    "print(df_end.head())"
   ]
  },
  {
   "cell_type": "code",
   "execution_count": null,
   "metadata": {},
   "outputs": [],
   "source": [
    "df_end['severity'] = df_end['severity'] - 1  # Subtracting 1 from each severity level\n",
    "# Randomly sample 100 rows from random_samples_combined\n",
    "random_samples_test_check = df_end.sample(n=100, random_state=RSEED)\n"
   ]
  },
  {
   "cell_type": "code",
   "execution_count": null,
   "metadata": {},
   "outputs": [],
   "source": [
    "s"
   ]
  },
  {
   "cell_type": "markdown",
   "metadata": {},
   "source": [
    "model setting"
   ]
  },
  {
   "cell_type": "code",
   "execution_count": null,
   "metadata": {},
   "outputs": [],
   "source": [
    "import torch\n",
    "from torch import nn, optim\n",
    "from torch.utils.data import Dataset, DataLoader, random_split\n",
    "import torchvision.models as models\n",
    "from torchvision import transforms\n",
    "import pydicom\n",
    "import cv2\n",
    "import pandas as pd\n",
    "\n",
    "# Define the transform with augmentation: I already tranformed i tbfore \n",
    "\n",
    "transform = transforms.Compose([\n",
    "    transforms.ToPILImage(),\n",
    "    transforms.Resize((224, 224)),\n",
    "    #transforms.RandomHorizontalFlip(),  # Randomly flip the image horizontally\n",
    "    #transforms.RandomRotation(10),       # Randomly rotate the image by ±10 degrees\n",
    "    transforms.ColorJitter(brightness=0.2, contrast=0.2, saturation=0.2, hue=0.1),  # Adjust color properties\n",
    "    transforms.ToTensor(),\n",
    "    transforms.Normalize(mean=[0.485, 0.456, 0.406], std=[0.229, 0.224, 0.225])\n",
    "])\n",
    "\n",
    "\n",
    "class MRIDataset(Dataset):\n",
    "    def __init__(self, data, transform=None):\n",
    "        self.data = data\n",
    "        self.transform = transform\n",
    "\n",
    "        # Ensure severity is in integer format\n",
    "        self.data['severity'] = self.data['severity'].astype(int)\n",
    "\n",
    "    def __getitem__(self, index):\n",
    "        row = self.data.iloc[index]\n",
    "        image_path = row['image_path']\n",
    "        label = row['severity']  # Use severity for the label\n",
    "\n",
    "        dicom_image = pydicom.dcmread(image_path)\n",
    "        image = dicom_image.pixel_array.astype(float)\n",
    "        image = (image / image.max() * 255).astype('uint8')  # Normalize\n",
    "\n",
    "        # Convert the image to RGB if it is grayscale\n",
    "        if len(image.shape) == 2:  # Grayscale\n",
    "            image = cv2.cvtColor(image, cv2.COLOR_GRAY2RGB)\n",
    "\n",
    "        # Apply transformations including augmentation\n",
    "        image_tensor = self.transform(image) if self.transform else torch.from_numpy(image).permute(2, 0, 1)\n",
    "\n",
    "        return image_tensor, torch.tensor(label).long()  # Return label as tensor\n",
    "\n",
    "    def __len__(self):\n",
    "        return len(self.data)\n",
    "\n"
   ]
  },
  {
   "cell_type": "code",
   "execution_count": null,
   "metadata": {},
   "outputs": [],
   "source": [
    " d"
   ]
  },
  {
   "cell_type": "code",
   "execution_count": null,
   "metadata": {},
   "outputs": [],
   "source": [
    "import mlflow\n",
    "import mlflow.pytorch\n",
    "import torch\n",
    "import torch.nn as nn\n",
    "import torch.optim as optim\n",
    "from torch.utils.data import DataLoader, random_split\n",
    "from torchvision import models\n",
    "import matplotlib.pyplot as plt\n",
    "import numpy as np  # Import numpy for setting the random seed\n",
    "\n",
    "# Set random seed for reproducibility\n",
    "seed = 42  # You can choose any integer\n",
    "torch.manual_seed(seed)\n",
    "np.random.seed(seed)  # Set seed for numpy\n",
    "import random\n",
    "random.seed(seed)  # Set seed for random module\n",
    "\n",
    "# Create a new experiment\n",
    "experiment_name = \"Resnet50_MRI_Classification\"\n",
    "# Uncomment the line below to create a new experiment only if it doesn't already exist\n",
    "# mlflow.create_experiment(experiment_name)\n",
    "mlflow.set_experiment(experiment_name)\n",
    "\n",
    "# Create the dataset\n",
    "dataset = MRIDataset(data=df_end, transform=transform)\n",
    "\n",
    "# Split the dataset into training and validation sets (80% train, 20% validation)\n",
    "train_size = int(0.8 * len(dataset))\n",
    "val_size = len(dataset) - train_size\n",
    "train_dataset, val_dataset = random_split(dataset, [train_size, val_size])\n",
    "\n",
    "# Create DataLoaders\n",
    "train_loader = DataLoader(train_dataset, batch_size=4, shuffle=True)\n",
    "val_loader = DataLoader(val_dataset, batch_size=4, shuffle=False)\n",
    "\n",
    "# Load ResNet-50 and set up for classification\n",
    "device = torch.device('cuda' if torch.cuda.is_available() else 'cpu')\n",
    "num_classes = df_end['severity'].nunique()\n",
    "\n",
    "model = models.resnet50(weights='IMAGENET1K_V1')\n",
    "model.fc = nn.Linear(model.fc.in_features, num_classes)\n",
    "model.to(device)\n",
    "\n",
    "# Define loss functions and optimizer\n",
    "criterion_cel = nn.CrossEntropyLoss()\n",
    "criterion_mse = nn.MSELoss()\n",
    "optimizer = optim.Adam(model.parameters(), lr=0.0001)\n",
    "num_epochs = 30\n",
    "\n",
    "# Lists to store loss values for plotting\n",
    "train_losses_cel = []\n",
    "val_losses_cel = []\n",
    "train_losses_mse = []\n",
    "val_losses_mse = []\n",
    "\n",
    "# Early stopping parameters\n",
    "stop_threshold = 0.2  # Threshold for validation loss to diverge from training loss\n",
    "diverge_count = 0\n",
    "max_diverge_count = 3  # Number of epochs validation loss is allowed to diverge\n",
    "\n",
    "# Calculate number of layers in the model\n",
    "num_layers = len(list(model.children()))\n",
    "\n",
    "# Start MLflow run\n",
    "with mlflow.start_run():\n",
    "    # Log parameters\n",
    "    mlflow.log_param(\"learning_rate\", 0.0001)\n",
    "    mlflow.log_param(\"optimizer\", \"Adam\")\n",
    "    mlflow.log_param(\"batch_size\", 4)\n",
    "    mlflow.log_param(\"num_epochs\", num_epochs)\n",
    "    mlflow.log_param(\"num_classes\", num_classes)\n",
    "    mlflow.log_param(\"stop_threshold\", stop_threshold)\n",
    "    mlflow.log_param(\"model_architecture\", \"ResNet-50\")\n",
    "    mlflow.log_param(\"input_size\", \"224x224\")\n",
    "    mlflow.log_param(\"num_layers\", num_layers)  # Log number of layers\n",
    "    mlflow.log_param(\"activation_function\", \"ReLU\")  # Log activation function\n",
    "    mlflow.log_param(\"pretrained_weights\", \"IMAGENET1K_V1\")\n",
    "\n",
    "    # Training and validation loop\n",
    "    for epoch in range(num_epochs):\n",
    "        # Training phase\n",
    "        model.train()\n",
    "        running_loss_cel_train = 0.0\n",
    "        running_loss_mse_train = 0.0\n",
    "        \n",
    "        for images, labels in train_loader:\n",
    "            images, labels = images.to(device), labels.to(device)\n",
    "            optimizer.zero_grad()\n",
    "            \n",
    "            outputs = model(images)\n",
    "            \n",
    "            # Cross Entropy Loss\n",
    "            loss_cel = criterion_cel(outputs, labels)\n",
    "            running_loss_cel_train += loss_cel.item()\n",
    "\n",
    "            # MSE Loss (if applicable)\n",
    "            mse_target = labels.float().unsqueeze(1).expand_as(outputs)  # Example target\n",
    "            loss_mse = criterion_mse(outputs, mse_target)\n",
    "            running_loss_mse_train += loss_mse.item()\n",
    "            \n",
    "            # Backward pass and optimization\n",
    "            loss_cel.backward()\n",
    "            optimizer.step()\n",
    "\n",
    "        # Calculate average losses\n",
    "        epoch_loss_cel_train = running_loss_cel_train / len(train_loader)\n",
    "        train_losses_cel.append(epoch_loss_cel_train)\n",
    "        epoch_loss_mse_train = running_loss_mse_train / len(train_loader)\n",
    "        train_losses_mse.append(epoch_loss_mse_train)\n",
    "\n",
    "        # Log training losses to MLflow\n",
    "        mlflow.log_metric(\"train_loss_cel\", epoch_loss_cel_train, step=epoch)\n",
    "        mlflow.log_metric(\"train_loss_mse\", epoch_loss_mse_train, step=epoch)\n",
    "\n",
    "        # Validation phase\n",
    "        model.eval()\n",
    "        running_loss_cel_val = 0.0\n",
    "        running_loss_mse_val = 0.0\n",
    "        \n",
    "        with torch.no_grad():\n",
    "            for images, labels in val_loader:\n",
    "                images, labels = images.to(device), labels.to(device)\n",
    "                outputs = model(images)\n",
    "                \n",
    "                # Cross Entropy Loss for validation\n",
    "                loss_cel = criterion_cel(outputs, labels)\n",
    "                running_loss_cel_val += loss_cel.item()\n",
    "                \n",
    "                # MSE Loss (if applicable)\n",
    "                mse_target = labels.float().unsqueeze(1).expand_as(outputs)  # Ensure mse_target matches outputs shape\n",
    "                loss_mse = criterion_mse(outputs, mse_target)\n",
    "                running_loss_mse_val += loss_mse.item()\n",
    "\n",
    "        # Calculate validation losses\n",
    "        epoch_loss_cel_val = running_loss_cel_val / len(val_loader)\n",
    "        val_losses_cel.append(epoch_loss_cel_val)\n",
    "        epoch_loss_mse_val = running_loss_mse_val / len(val_loader)\n",
    "        val_losses_mse.append(epoch_loss_mse_val)\n",
    "\n",
    "        # Log validation losses to MLflow\n",
    "        mlflow.log_metric(\"val_loss_cel\", epoch_loss_cel_val, step=epoch)\n",
    "        mlflow.log_metric(\"val_loss_mse\", epoch_loss_mse_val, step=epoch)\n",
    "\n",
    "        # Early stopping check\n",
    "        if epoch_loss_cel_val > epoch_loss_cel_train * (1 + stop_threshold):\n",
    "            diverge_count += 1\n",
    "            if diverge_count >= max_diverge_count:\n",
    "                print(f\"Early stopping at epoch {epoch+1} due to validation loss diverging.\")\n",
    "                break\n",
    "        else:\n",
    "            diverge_count = 0  # Reset count if validation loss improves\n",
    "\n",
    "        # Print epoch results\n",
    "        print(f'Epoch [{epoch+1}/{num_epochs}], '\n",
    "              f'Train Cross Entropy Loss: {epoch_loss_cel_train:.4f}, '\n",
    "              f'Validation Cross Entropy Loss: {epoch_loss_cel_val:.4f}')\n",
    "\n",
    "    print(\"Training complete!\")\n",
    "\n",
    "    # Log the model\n",
    "    mlflow.pytorch.log_model(model, \"model\")\n",
    "\n",
    "    # Plot and log the loss curves as artifacts\n",
    "    plt.figure(figsize=(10, 5))\n",
    "    plt.plot(train_losses_cel, label='Train Cross Entropy Loss')\n",
    "    plt.plot(val_losses_cel, label='Validation Cross Entropy Loss')\n",
    "    plt.xlabel('Epoch')\n",
    "    plt.ylabel('Loss')\n",
    "    plt.title('Training and Validation Cross Entropy Loss')\n",
    "    plt.legend()\n",
    "    plt.savefig(\"cross_entropy_loss.png\")\n",
    "    mlflow.log_artifact(\"cross_entropy_loss.png\")\n",
    "\n",
    "    # Plot MSE Loss if applicable\n",
    "    plt.figure(figsize=(10, 5))\n",
    "    plt.plot(train_losses_mse, label='Train MSE Loss')\n",
    "    plt.plot(val_losses_mse, label='Validation MSE Loss')\n",
    "    plt.xlabel('Epoch')\n",
    "    plt.ylabel('Loss')\n",
    "    plt.title('Training and Validation MSE Loss')\n",
    "    plt.legend()\n",
    "    plt.savefig(\"mse_loss.png\")\n",
    "    mlflow.log_artifact(\"mse_loss.png\")\n"
   ]
  },
  {
   "cell_type": "code",
   "execution_count": null,
   "metadata": {},
   "outputs": [],
   "source": [
    "s"
   ]
  },
  {
   "cell_type": "markdown",
   "metadata": {},
   "source": [
    "if crossvalidation stop if validation and train goes apart"
   ]
  },
  {
   "cell_type": "code",
   "execution_count": null,
   "metadata": {},
   "outputs": [],
   "source": [
    "import mlflow\n",
    "import mlflow.pytorch\n",
    "\n",
    "# Create a new experiment\n",
    "experiment_name = \"Resnet50_MRI_Classification\"\n",
    "## wenn nuer experiment: die zeile unten\n",
    "# mlflow.create_experiment(experiment_name)\n",
    "mlflow.set_experiment(experiment_name)\n",
    "\n",
    "import torch\n",
    "\n",
    "import torch.nn as nn\n",
    "import torch.optim as optim\n",
    "from torch.utils.data import DataLoader, random_split\n",
    "from torchvision import models\n",
    "import matplotlib.pyplot as plt\n",
    "\n",
    "# Create the dataset\n",
    "dataset = MRIDataset(data=df_end, transform=transform)\n",
    "\n",
    "# Split the dataset into training and validation sets (80% train, 20% validation)\n",
    "train_size = int(0.8 * len(dataset))\n",
    "val_size = len(dataset) - train_size\n",
    "train_dataset, val_dataset = random_split(dataset, [train_size, val_size])\n",
    "\n",
    "# Create DataLoaders\n",
    "train_loader = DataLoader(train_dataset, batch_size=4, shuffle=True)\n",
    "val_loader = DataLoader(val_dataset, batch_size=4, shuffle=False)\n",
    "\n",
    "# Load ResNet-50 and set up for classification\n",
    "device = torch.device('cuda' if torch.cuda.is_available() else 'cpu')\n",
    "num_classes = df_end['severity'].nunique()\n",
    "\n",
    "model = models.resnet50(weights='IMAGENET1K_V1')\n",
    "model.fc = nn.Linear(model.fc.in_features, num_classes)\n",
    "model.to(device)\n",
    "\n",
    "# Define loss functions and optimizer\n",
    "criterion_cel = nn.CrossEntropyLoss()\n",
    "criterion_mse = nn.MSELoss()\n",
    "optimizer = optim.Adam(model.parameters(), lr=0.0001)\n",
    "num_epochs = 10\n",
    "\n",
    "# Lists to store loss values for plotting\n",
    "train_losses_cel = []\n",
    "val_losses_cel = []\n",
    "train_losses_mse = []\n",
    "val_losses_mse = []\n",
    "\n",
    "# Early stopping parameters\n",
    "stop_threshold = 0.2  # Threshold for validation loss to diverge from training loss\n",
    "diverge_count = 0\n",
    "max_diverge_count = 3  # Number of epochs validation loss is allowed to diverge\n",
    "\n",
    "# Start MLflow run\n",
    "with mlflow.start_run():\n",
    "    # Log parameters\n",
    "    mlflow.log_param(\"learning_rate\", 0.0001)\n",
    "    mlflow.log_param(\"optimizer\", \"Adam\")\n",
    "    mlflow.log_param(\"batch_size\", 4)\n",
    "    mlflow.log_param(\"num_epochs\", num_epochs)\n",
    "    mlflow.log_param(\"num_classes\", num_classes)\n",
    "    mlflow.log_param(\"stop_threshold\", stop_threshold)\n",
    "\n",
    "    # Training and validation loop\n",
    "    for epoch in range(num_epochs):\n",
    "        # Training phase\n",
    "        model.train()\n",
    "        running_loss_cel_train = 0.0\n",
    "        running_loss_mse_train = 0.0\n",
    "        \n",
    "        for images, labels in train_loader:\n",
    "            images, labels = images.to(device), labels.to(device)\n",
    "            optimizer.zero_grad()\n",
    "            \n",
    "            outputs = model(images)\n",
    "            \n",
    "            # Cross Entropy Loss\n",
    "            loss_cel = criterion_cel(outputs, labels)\n",
    "            running_loss_cel_train += loss_cel.item()\n",
    "\n",
    "            # MSE Loss (if applicable)\n",
    "            mse_target = labels.float().unsqueeze(1).expand_as(outputs)  # Example target\n",
    "            loss_mse = criterion_mse(outputs, mse_target)\n",
    "            running_loss_mse_train += loss_mse.item()\n",
    "            \n",
    "            # Backward pass and optimization\n",
    "            loss_cel.backward()\n",
    "            optimizer.step()\n",
    "\n",
    "        # Calculate average losses\n",
    "        epoch_loss_cel_train = running_loss_cel_train / len(train_loader)\n",
    "        train_losses_cel.append(epoch_loss_cel_train)\n",
    "        epoch_loss_mse_train = running_loss_mse_train / len(train_loader)\n",
    "        train_losses_mse.append(epoch_loss_mse_train)\n",
    "\n",
    "        # Log training losses to MLflow\n",
    "        mlflow.log_metric(\"train_loss_cel\", epoch_loss_cel_train, step=epoch)\n",
    "        mlflow.log_metric(\"train_loss_mse\", epoch_loss_mse_train, step=epoch)\n",
    "\n",
    "        # Validation phase\n",
    "        model.eval()\n",
    "        running_loss_cel_val = 0.0\n",
    "        running_loss_mse_val = 0.0\n",
    "        \n",
    "        with torch.no_grad():\n",
    "            for images, labels in val_loader:\n",
    "                images, labels = images.to(device), labels.to(device)\n",
    "                outputs = model(images)\n",
    "                \n",
    "                # Cross Entropy Loss for validation\n",
    "                loss_cel = criterion_cel(outputs, labels)\n",
    "                running_loss_cel_val += loss_cel.item()\n",
    "                \n",
    "                # MSE Loss (if applicable)\n",
    "                mse_target = labels.float().unsqueeze(1).expand_as(outputs)  # Ensure mse_target matches outputs shape\n",
    "                loss_mse = criterion_mse(outputs, mse_target)\n",
    "                running_loss_mse_val += loss_mse.item()\n",
    "\n",
    "        # Calculate validation losses\n",
    "        epoch_loss_cel_val = running_loss_cel_val / len(val_loader)\n",
    "        val_losses_cel.append(epoch_loss_cel_val)\n",
    "        epoch_loss_mse_val = running_loss_mse_val / len(val_loader)\n",
    "        val_losses_mse.append(epoch_loss_mse_val)\n",
    "\n",
    "        # Log validation losses to MLflow\n",
    "        mlflow.log_metric(\"val_loss_cel\", epoch_loss_cel_val, step=epoch)\n",
    "        mlflow.log_metric(\"val_loss_mse\", epoch_loss_mse_val, step=epoch)\n",
    "\n",
    "        # Early stopping check\n",
    "        if epoch_loss_cel_val > epoch_loss_cel_train * (1 + stop_threshold):\n",
    "            diverge_count += 1\n",
    "            if diverge_count >= max_diverge_count:\n",
    "                print(f\"Early stopping at epoch {epoch+1} due to validation loss diverging.\")\n",
    "                break\n",
    "        else:\n",
    "            diverge_count = 0  # Reset count if validation loss improves\n",
    "\n",
    "        # Print epoch results\n",
    "        print(f'Epoch [{epoch+1}/{num_epochs}], '\n",
    "              f'Train Cross Entropy Loss: {epoch_loss_cel_train:.4f}, '\n",
    "              f'Validation Cross Entropy Loss: {epoch_loss_cel_val:.4f}')\n",
    "\n",
    "    print(\"Training complete!\")\n",
    "\n",
    "    # Log the model\n",
    "    mlflow.pytorch.log_model(model, \"model\")\n",
    "\n",
    "    # Plot and log the loss curves as artifacts\n",
    "    plt.figure(figsize=(10, 5))\n",
    "    plt.plot(train_losses_cel, label='Train Cross Entropy Loss')\n",
    "    plt.plot(val_losses_cel, label='Validation Cross Entropy Loss')\n",
    "    plt.xlabel('Epoch')\n",
    "    plt.ylabel('Loss')\n",
    "    plt.title('Training and Validation Cross Entropy Loss')\n",
    "    plt.legend()\n",
    "    plt.savefig(\"cross_entropy_loss.png\")\n",
    "    mlflow.log_artifact(\"cross_entropy_loss.png\")\n",
    "\n",
    "    # Plot MSE Loss if applicable\n",
    "    plt.figure(figsize=(10, 5))\n",
    "    plt.plot(train_losses_mse, label='Train MSE Loss')\n",
    "    plt.plot(val_losses_mse, label='Validation MSE Loss')\n",
    "    plt.xlabel('Epoch')\n",
    "    plt.ylabel('Loss')\n",
    "    plt.title('Training and Validation MSE Loss')\n",
    "    plt.legend()\n",
    "    plt.savefig(\"mse_loss.png\")\n",
    "    mlflow.log_artifact(\"mse_loss.png\")\n"
   ]
  },
  {
   "cell_type": "code",
   "execution_count": null,
   "metadata": {},
   "outputs": [],
   "source": [
    "s"
   ]
  },
  {
   "cell_type": "markdown",
   "metadata": {},
   "source": [
    "Restore parameters and metrtics from mlflow"
   ]
  },
  {
   "cell_type": "code",
   "execution_count": null,
   "metadata": {},
   "outputs": [],
   "source": [
    "import mlflow\n",
    "import mlflow.pytorch\n",
    "\n",
    "# Set the experiment name (optional, helps in identifying runs)\n",
    "experiment_name = \"Resnet50_MRI_Classification\"\n",
    "mlflow.set_experiment(experiment_name)\n",
    "\n",
    "# Specify the run ID of the logged model\n",
    "run_id = \"f390913c59d642329c86d0f52b943062\"  # Replace with your actual run ID\n",
    "\n",
    "# Create the model URI\n",
    "model_uri = f\"runs:/{run_id}/model\"\n",
    "\n",
    "# Load the model\n",
    "model = mlflow.pytorch.load_model(model_uri)\n",
    "\n",
    "# Now you can use the model for inference or evaluation\n",
    "model.eval()  # Set the model to evaluation mode\n",
    "# Get all runs for the experiment\n",
    "runs = mlflow.search_runs(experiment_names=[experiment_name])\n",
    "\n",
    "print(runs.filter(like='params.').to_string(index=False))\n",
    "# Display all metrics\n",
    "metrics_columns = [col for col in runs.columns if col.startswith('metrics.')]\n",
    "print(runs[metrics_columns].to_string(index=False))\n",
    "\n",
    " "
   ]
  },
  {
   "cell_type": "markdown",
   "metadata": {},
   "source": [
    "Load data and use on test data"
   ]
  },
  {
   "cell_type": "code",
   "execution_count": null,
   "metadata": {},
   "outputs": [],
   "source": [
    "import torch\n",
    "from torch import nn, optim\n",
    "from torch.utils.data import Dataset, DataLoader, random_split\n",
    "import torchvision.models as models\n",
    "from torchvision import transforms\n",
    "import pydicom\n",
    "import cv2\n",
    "import pandas as pd\n",
    "\n",
    "# Define the transform with augmentation: I already tranformed i tbfore \n",
    "\n",
    "transform = transforms.Compose([\n",
    "    transforms.ToPILImage(),\n",
    "    transforms.Resize((224, 224)),\n",
    "    #transforms.RandomHorizontalFlip(),  # Randomly flip the image horizontally\n",
    "    #transforms.RandomRotation(10),       # Randomly rotate the image by ±10 degrees\n",
    "    transforms.ColorJitter(brightness=0.2, contrast=0.2, saturation=0.2, hue=0.1),  # Adjust color properties\n",
    "    transforms.ToTensor(),\n",
    "    transforms.Normalize(mean=[0.485, 0.456, 0.406], std=[0.229, 0.224, 0.225])\n",
    "])\n",
    "\n",
    "\n",
    "class MRIDataset(Dataset):\n",
    "    def __init__(self, data, transform=None):\n",
    "        self.data = data\n",
    "        self.transform = transform\n",
    "\n",
    "        # Ensure severity is in integer format\n",
    "        self.data['severity'] = self.data['severity'].astype(int)\n",
    "\n",
    "    def __getitem__(self, index):\n",
    "        row = self.data.iloc[index]\n",
    "        image_path = row['image_path']\n",
    "        label = row['severity']  # Use severity for the label\n",
    "\n",
    "        dicom_image = pydicom.dcmread(image_path)\n",
    "        image = dicom_image.pixel_array.astype(float)\n",
    "        image = (image / image.max() * 255).astype('uint8')  # Normalize\n",
    "\n",
    "        # Convert the image to RGB if it is grayscale\n",
    "        if len(image.shape) == 2:  # Grayscale\n",
    "            image = cv2.cvtColor(image, cv2.COLOR_GRAY2RGB)\n",
    "\n",
    "        # Apply transformations including augmentation\n",
    "        image_tensor = self.transform(image) if self.transform else torch.from_numpy(image).permute(2, 0, 1)\n",
    "\n",
    "        return image_tensor, torch.tensor(label).long()  # Return label as tensor\n",
    "\n",
    "    def __len__(self):\n",
    "        return len(self.data)\n"
   ]
  },
  {
   "cell_type": "code",
   "execution_count": null,
   "metadata": {},
   "outputs": [],
   "source": [
    "# Replace 'df_test' with your actual DataFrame containing test data\n",
    "test_dataset = MRIDataset(data=random_samples_test_check, transform=transform)\n",
    "test_loader = DataLoader(test_dataset, batch_size=1, shuffle=False)  # Adjust batch size as needed\n",
    "test_dataset\n",
    "test_loader"
   ]
  },
  {
   "cell_type": "code",
   "execution_count": null,
   "metadata": {},
   "outputs": [],
   "source": [
    "run_id = \"f390913c59d642329c86d0f52b943062\"  # Replace with your actual run ID\n",
    "model_uri = f\"runs:/{run_id}/model\"\n",
    "model = mlflow.pytorch.load_model(model_uri)\n",
    "model.eval()  # Set the model to evaluation mode"
   ]
  },
  {
   "cell_type": "code",
   "execution_count": null,
   "metadata": {},
   "outputs": [],
   "source": [
    "import torch\n",
    "\n",
    "# Check if a GPU is available and set the device accordingly\n",
    "device = torch.device('cuda' if torch.cuda.is_available() else 'cpu')\n",
    "\n",
    "print(f\"Using device: {device}\")\n",
    "results = []\n",
    "with torch.no_grad():\n",
    "    for images, labels in test_loader:\n",
    "        images = images.to(device)\n",
    "        labels = torch.tensor(labels)  # Convert labels to tensor\n",
    "        outputs = model(images)\n",
    "        _, predicted_classes = torch.max(outputs, 1)\n",
    "        \n",
    "        # Append predictions with corresponding image paths or indices\n",
    "        results.append(predicted_classes.item())\n",
    "\n",
    "# Print or save predictions as needed\n",
    "for i, pred in enumerate(results):\n",
    "    print(f\"Test image {i}: Predicted class {pred}\")"
   ]
  },
  {
   "cell_type": "code",
   "execution_count": null,
   "metadata": {
    "vscode": {
     "languageId": "r"
    }
   },
   "outputs": [],
   "source": [
    "from sklearn.metrics import confusion_matrix, ConfusionMatrixDisplay\n",
    "import matplotlib.pyplot as plt\n",
    "import numpy as np\n",
    "\n",
    "# Initialize lists to store true labels and predictions\n",
    "true_labels = []\n",
    "predicted_labels = []\n",
    "\n",
    "# Collect true labels and predicted labels\n",
    "for images, labels in test_loader:\n",
    "    images = images.to(device)\n",
    "\n",
    "    # Store the true labels\n",
    "    true_labels.extend(labels.numpy())  # Convert to numpy and extend the list\n",
    "\n",
    "    with torch.no_grad():\n",
    "        outputs = model(images)\n",
    "        _, predicted_classes = torch.max(outputs, 1)\n",
    "        predicted_labels.extend(predicted_classes.cpu().numpy())  # Move to CPU and convert to list\n",
    "\n",
    "# Convert to numpy arrays for confusion matrix\n",
    "true_labels = np.array(true_labels)\n",
    "predicted_labels = np.array(predicted_labels)\n",
    "\n",
    "# Check the unique values in the true and predicted labels\n",
    "print(\"True Labels Unique Values:\", np.unique(true_labels))\n",
    "print(\"Predicted Labels Unique Values:\", np.unique(predicted_labels))\n",
    "\n",
    "\n"
   ]
  },
  {
   "cell_type": "code",
   "execution_count": null,
   "metadata": {},
   "outputs": [],
   "source": [
    "# Generate the confusion matrix, explicitly specifying labels\n",
    "cm = confusion_matrix(true_labels, predicted_labels, labels=[0, 1, 2])\n",
    "\n",
    "# Display the confusion matrix with fixed display labels\n",
    "disp = ConfusionMatrixDisplay(confusion_matrix=cm, display_labels=[0, 1, 2])\n",
    "disp.plot(cmap=plt.cm.Blues)\n",
    "plt.title(\"Confusion Matrix\")\n",
    "plt.show()"
   ]
  },
  {
   "cell_type": "code",
   "execution_count": null,
   "metadata": {},
   "outputs": [],
   "source": []
  }
 ],
 "metadata": {
  "accelerator": "GPU",
  "colab": {
   "collapsed_sections": [],
   "name": "overfit_and_underfit.ipynb",
   "toc_visible": true
  },
  "kernelspec": {
   "display_name": ".venv",
   "language": "python",
   "name": "python3"
  },
  "language_info": {
   "codemirror_mode": {
    "name": "ipython",
    "version": 3
   },
   "file_extension": ".py",
   "mimetype": "text/x-python",
   "name": "python",
   "nbconvert_exporter": "python",
   "pygments_lexer": "ipython3",
   "version": "3.11.3"
  }
 },
 "nbformat": 4,
 "nbformat_minor": 4
}
