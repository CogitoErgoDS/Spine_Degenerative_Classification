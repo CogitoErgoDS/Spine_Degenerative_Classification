{
 "cells": [
  {
   "cell_type": "code",
   "execution_count": null,
   "metadata": {},
   "outputs": [],
   "source": [
    "\n",
    "\n",
    "In summary:\n",
    "\n",
    "Spinal canal stenosis: Primarily assessed with Sagittal T2/STIR, Sagittal T1, and Axial T2.\n",
    "Subarticular stenosis: Best visualized with Axial T2 and Sagittal T2.\n",
    "Neural foraminal narrowing: Best seen with Sagittal T2/STIR, Sagittal T1, and sometimes Axial T2."
   ]
  },
  {
   "cell_type": "code",
   "execution_count": null,
   "metadata": {},
   "outputs": [],
   "source": [
    "import pandas as pd\n",
    "\n",
    "# Load Excel file\n",
    "\n",
    "\n",
    "df = pd.read_excel(\"your_file.xlsx\")\n",
    "\n",
    "# Convert to Markdown format\n",
    "markdown_table = df.to_markdown(index=False)"
   ]
  },
  {
   "cell_type": "code",
   "execution_count": null,
   "metadata": {},
   "outputs": [],
   "source": [
    "from IPython.display import Markdown\n",
    "\n",
    "display(Markdown(markdown_table))"
   ]
  }
 ],
 "metadata": {
  "language_info": {
   "name": "python"
  }
 },
 "nbformat": 4,
 "nbformat_minor": 2
}
